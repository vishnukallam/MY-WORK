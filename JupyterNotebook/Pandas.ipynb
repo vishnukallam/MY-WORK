{
 "cells": [
  {
   "cell_type": "markdown",
   "id": "4b6ec399",
   "metadata": {},
   "source": [
    "# Pandas "
   ]
  },
  {
   "cell_type": "markdown",
   "id": "c70c918e",
   "metadata": {},
   "source": [
    "### Pandas is a software library written for the python programming language for data manipulation and analysis. Pandas is used for missed data."
   ]
  },
  {
   "cell_type": "markdown",
   "id": "78b30b65",
   "metadata": {},
   "source": [
    "### Pandas provides a high-level data structures and functions to make working on structured data or tablular data fast, easy, and expressive."
   ]
  },
  {
   "cell_type": "markdown",
   "id": "8987a350",
   "metadata": {},
   "source": [
    "### It was emerged in 2010, it helps python to be a powerful and prodictive data analysis environment."
   ]
  },
  {
   "cell_type": "markdown",
   "id": "81f1a85b",
   "metadata": {},
   "source": [
    "### The primary objects that are used in pandas DataFrames which is having a tabular form with rows and columns as lable object and represents 2D data, Series one dimentional labeled array object and Panel which will represent the 3D data"
   ]
  },
  {
   "cell_type": "markdown",
   "id": "d85dfe31",
   "metadata": {},
   "source": [
    "### A Series is a one dimentional labeled array capable of holding any datatype (int, float, str, python objects, etc..). Series is a single column data"
   ]
  },
  {
   "cell_type": "markdown",
   "id": "ceb355da",
   "metadata": {},
   "source": [
    "# Syntax for series is pd.Series(data,index) Data maybe lists or 1D array."
   ]
  },
  {
   "cell_type": "markdown",
   "id": "9dbed7e8",
   "metadata": {},
   "source": [
    "### A dataframe is a 2 dimensional data structure, like a 2 dimensional array, or a table with rows and columns. It is the most commonly used data structure in pandas; As like series, dataframe allow many different kinds of input."
   ]
  },
  {
   "cell_type": "markdown",
   "id": "624837a1",
   "metadata": {},
   "source": [
    "# Syntax for dataframe is pd.Dataframe(data) data maybe any lists/ dicts/ series/ 2D arrays"
   ]
  },
  {
   "cell_type": "markdown",
   "id": "ea8bad80",
   "metadata": {},
   "source": [
    "# Pandas contains high-performance, array-computing ideas of numpy with flexible data manipulation capabilities of spreadsheet and relational databases like SQL."
   ]
  },
  {
   "cell_type": "markdown",
   "id": "549a4ac0",
   "metadata": {},
   "source": [
    "# Series"
   ]
  },
  {
   "cell_type": "code",
   "execution_count": 1,
   "id": "49800021",
   "metadata": {},
   "outputs": [],
   "source": [
    "import pandas as pd\n",
    "# syntax for series \n",
    "# pd.Series(data,index)\n",
    "# index means s.no and we can change the index values."
   ]
  },
  {
   "cell_type": "code",
   "execution_count": 2,
   "id": "6275aa54",
   "metadata": {
    "scrolled": false
   },
   "outputs": [
    {
     "data": {
      "text/plain": [
       "<Axes: >"
      ]
     },
     "execution_count": 2,
     "metadata": {},
     "output_type": "execute_result"
    },
    {
     "data": {
      "image/png": "[encoded data removed]",
      "text/plain": [
       "<Figure size 640x480 with 1 Axes>"
      ]
     },
     "metadata": {},
     "output_type": "display_data"
    }
   ],
   "source": [
    "l = [100,100,100,5]\n",
    "s = [\"a\",\"b\",\"c\",'d']\n",
    "arr = pd.Series(l,index=s)\n",
    "arr.plot(kind = \"pie\")\n",
    "#print(pd.Series(s))"
   ]
  },
  {
   "cell_type": "code",
   "execution_count": 3,
   "id": "22ed6667",
   "metadata": {},
   "outputs": [
    {
     "data": {
      "text/plain": [
       "f    20\n",
       "g    30\n",
       "h    40\n",
       "dtype: int64"
      ]
     },
     "execution_count": 3,
     "metadata": {},
     "output_type": "execute_result"
    }
   ],
   "source": [
    "# Empty series (pd.Series())\n",
    "pd.Series()\n",
    "# Series using Arrays\n",
    "import numpy as np\n",
    "arr = np.array([1,2,3,4,5])\n",
    "# Series using list \n",
    "a = [\"a\",\"b\",\"c\",\"d\",\"e\"]\n",
    "b = pd.Series(arr,index = a)\n",
    "# Series using dictionaries (for dictionaries the keys act as index)\n",
    "d = {\"f\":20,\"g\":30,\"h\":40}\n",
    "pd.Series(d)"
   ]
  },
  {
   "cell_type": "code",
   "execution_count": 4,
   "id": "d64099eb",
   "metadata": {},
   "outputs": [
    {
     "data": {
      "text/plain": [
       "1    (a = , 10)\n",
       "2    (b = , 20)\n",
       "3    (c = , 30)\n",
       "dtype: object"
      ]
     },
     "execution_count": 4,
     "metadata": {},
     "output_type": "execute_result"
    }
   ],
   "source": [
    "pd.Series([(\"a = \",10),(\"b = \",20),(\"c = \",30)],index = [1,2,3])"
   ]
  },
  {
   "cell_type": "markdown",
   "id": "2e9ddc8b",
   "metadata": {},
   "source": [
    " ''' Attributes in Series\n",
    "1. Index -- Series.index = return all the index values\n",
    "2. array -- Series.array = return array of values\n",
    "3. values -- Series.values = return values of series\n",
    "4. name (optional) -- Series.name = return name of a series\n",
    "5. shape -- Series.shape = return shape of series\n",
    "6. ndim --  Series.ndim = return dimension of Series\n",
    "7. size -- Series.size = return size of series\n",
    "8. nbytes -- Series.nbytes = return the memory occupied by values\n",
    "9. memory_usage() -- Series.memory_usage()= return memory occupied by both index and values \n",
    "10. empty -- Series.empty = return true if series is empty else returns false\n",
    "11. dtype -- Series.dtype = return datatype of series.\n",
    "12. Unique -- variable.isunique() = return boolean values.\n",
    "'''"
   ]
  },
  {
   "cell_type": "code",
   "execution_count": 5,
   "id": "f44abe68",
   "metadata": {},
   "outputs": [
    {
     "name": "stdout",
     "output_type": "stream",
     "text": [
      "a    1\n",
      "b    2\n",
      "c    3\n",
      "d    4\n",
      "e    5\n",
      "Name: ROLLNO, dtype: int32\n"
     ]
    }
   ],
   "source": [
    "# 1.Index attribute\n",
    "arr = np.array([1,2,3,4,5])\n",
    "S=pd.Series(arr,index=[\"a\",\"b\",\"c\",\"d\",\"e\"],name = \"ROLLNO\")\n",
    "print(S)"
   ]
  },
  {
   "cell_type": "code",
   "execution_count": 6,
   "id": "b8ff5e95",
   "metadata": {},
   "outputs": [
    {
     "data": {
      "text/plain": [
       "Name            [vijay, kumar, salaar]\n",
       "roll_numbers              [21, 33, 45]\n",
       "per                  [99.4, 67.6, 100]\n",
       "dtype: object"
      ]
     },
     "execution_count": 6,
     "metadata": {},
     "output_type": "execute_result"
    }
   ],
   "source": [
    "# 2.array attribute\n",
    "dst = {'Name':[\"vijay\",\"kumar\",\"salaar\"],'roll_numbers':[21,33,45],'per':[99.4,67.6,100]}\n",
    "pd.Series(dst)\n"
   ]
  },
  {
   "cell_type": "code",
   "execution_count": 7,
   "id": "cf78e168",
   "metadata": {},
   "outputs": [
    {
     "data": {
      "text/plain": [
       "array([1, 2, 3])"
      ]
     },
     "execution_count": 7,
     "metadata": {},
     "output_type": "execute_result"
    }
   ],
   "source": [
    "# 3. values attribute\n",
    "arr = np.array([1,2,3])\n",
    "s = pd.Series(arr)\n",
    "s.values"
   ]
  },
  {
   "cell_type": "code",
   "execution_count": 8,
   "id": "4609d5ec",
   "metadata": {},
   "outputs": [
    {
     "data": {
      "text/plain": [
       "dtype('int32')"
      ]
     },
     "execution_count": 8,
     "metadata": {},
     "output_type": "execute_result"
    }
   ],
   "source": [
    "# 11. dtype attribute\n",
    "arr = np.array([1,2,3])\n",
    "s = pd.Series(arr)\n",
    "s.dtype"
   ]
  },
  {
   "cell_type": "code",
   "execution_count": 9,
   "id": "2d56abc1",
   "metadata": {},
   "outputs": [
    {
     "name": "stdout",
     "output_type": "stream",
     "text": [
      "a    1\n",
      "b    2\n",
      "c    3\n",
      "Name: array, dtype: int32\n"
     ]
    }
   ],
   "source": [
    "# 4. name attribute\n",
    "arr = np.array([1,2,3])\n",
    "s = pd.Series(arr, index=[\"a\",\"b\",\"c\"],name =\"array\")\n",
    "print(s)\n"
   ]
  },
  {
   "cell_type": "code",
   "execution_count": 10,
   "id": "db82b954",
   "metadata": {},
   "outputs": [
    {
     "data": {
      "text/plain": [
       "(3,)"
      ]
     },
     "execution_count": 10,
     "metadata": {},
     "output_type": "execute_result"
    }
   ],
   "source": [
    "# 5. shape attribute\n",
    "arr = np.array([1,2,3])\n",
    "s = pd.Series(arr, index=[\"a\",\"b\",\"c\"],name =\"array\")\n",
    "s.shape "
   ]
  },
  {
   "cell_type": "code",
   "execution_count": 11,
   "id": "2791aa20",
   "metadata": {},
   "outputs": [
    {
     "data": {
      "text/plain": [
       "1"
      ]
     },
     "execution_count": 11,
     "metadata": {},
     "output_type": "execute_result"
    }
   ],
   "source": [
    "# 6. ndim attribute\n",
    "arr = np.array([1,2,3])\n",
    "s = pd.Series(arr, index=[\"a\",\"b\",\"c\"],name =\"array\")\n",
    "s.ndim"
   ]
  },
  {
   "cell_type": "code",
   "execution_count": 12,
   "id": "937c8deb",
   "metadata": {},
   "outputs": [
    {
     "data": {
      "text/plain": [
       "3"
      ]
     },
     "execution_count": 12,
     "metadata": {},
     "output_type": "execute_result"
    }
   ],
   "source": [
    "# 7. size attribute\n",
    "arr = np.array([1,2,3])\n",
    "s = pd.Series(arr, index=[\"a\",\"b\",\"c\"],name =\"array\")\n",
    "s.size"
   ]
  },
  {
   "cell_type": "code",
   "execution_count": 13,
   "id": "cf968ca6",
   "metadata": {},
   "outputs": [
    {
     "data": {
      "text/plain": [
       "12"
      ]
     },
     "execution_count": 13,
     "metadata": {},
     "output_type": "execute_result"
    }
   ],
   "source": [
    "# 8. nbytes attribute\n",
    "# arr = np.array([1,2,3])\n",
    "# s = pd.Series(arr, index=[\"a\",\"b\",\"c\"],name =\"array\")\n",
    "# s.nbytes # 12 bytes len(array)*byte occpied by datatype\n",
    "a = [1,\"a\",2.7]\n",
    "p = pd.Series(arr, index=[\"a\",\"b\",\"c\"],name =\"hello\")\n",
    "p.nbytes"
   ]
  },
  {
   "cell_type": "code",
   "execution_count": 14,
   "id": "65d7821d",
   "metadata": {},
   "outputs": [
    {
     "data": {
      "text/plain": [
       "12"
      ]
     },
     "execution_count": 14,
     "metadata": {},
     "output_type": "execute_result"
    }
   ],
   "source": [
    "# 9 memory_usage() attribute\n",
    "arr = np.array([1,2,3])\n",
    "s = pd.Series(arr, index=[\"a\",\"b\",\"c\"],name =\"array\")\n",
    "s.memory_usage(index= False)# it will include index values also"
   ]
  },
  {
   "cell_type": "code",
   "execution_count": 15,
   "id": "162acaf2",
   "metadata": {},
   "outputs": [
    {
     "data": {
      "text/plain": [
       "False"
      ]
     },
     "execution_count": 15,
     "metadata": {},
     "output_type": "execute_result"
    }
   ],
   "source": [
    "# 10. empty\n",
    "arr = np.array([1,2,3])\n",
    "s = pd.Series(arr, index=[\"a\",\"b\",\"c\"],name =\"array\")\n",
    "s.empty"
   ]
  },
  {
   "cell_type": "raw",
   "id": "99a639f7",
   "metadata": {},
   "source": [
    "'''Mathemiatical Operation on Series\n",
    "+,-,/,%,**,<,>,=\n",
    "To perform all this operation we have to create 2 series. \n",
    "'''"
   ]
  },
  {
   "cell_type": "code",
   "execution_count": 16,
   "id": "e70c4bf3",
   "metadata": {},
   "outputs": [
    {
     "data": {
      "text/plain": [
       "0     6\n",
       "1     8\n",
       "2    10\n",
       "dtype: int64"
      ]
     },
     "execution_count": 16,
     "metadata": {},
     "output_type": "execute_result"
    }
   ],
   "source": [
    "a = pd.Series([1,2,3])\n",
    "b = pd.Series([5,6,7])\n",
    "a+b\n"
   ]
  },
  {
   "cell_type": "code",
   "execution_count": 17,
   "id": "7a9e0036",
   "metadata": {},
   "outputs": [
    {
     "data": {
      "text/plain": [
       "0    ae\n",
       "1    bf\n",
       "2    cg\n",
       "dtype: object"
      ]
     },
     "execution_count": 17,
     "metadata": {},
     "output_type": "execute_result"
    }
   ],
   "source": [
    "a = pd.Series([\"a\",\"b\",\"c\"])\n",
    "b = pd.Series([\"e\",\"f\",\"g\"])\n",
    "a+b"
   ]
  },
  {
   "cell_type": "code",
   "execution_count": 18,
   "id": "6db22517",
   "metadata": {},
   "outputs": [
    {
     "data": {
      "text/plain": [
       "0     5\n",
       "1    12\n",
       "2    21\n",
       "dtype: int64"
      ]
     },
     "execution_count": 18,
     "metadata": {},
     "output_type": "execute_result"
    }
   ],
   "source": [
    "a = pd.Series([1,2,3])\n",
    "b = pd.Series([5,6,7])\n",
    "a*b"
   ]
  },
  {
   "cell_type": "code",
   "execution_count": 19,
   "id": "591a6a23",
   "metadata": {},
   "outputs": [],
   "source": [
    "import pandas as pd\n",
    "df = pd.read_csv(\"C:\\\\Users\\\\HOME123\\\\Documents\\\\Dataset\\\\tom.csv\")\n",
    "dat = pd.DataFrame(df)"
   ]
  },
  {
   "cell_type": "code",
   "execution_count": null,
   "id": "2a338495",
   "metadata": {
    "scrolled": true
   },
   "outputs": [],
   "source": []
  },
  {
   "cell_type": "code",
   "execution_count": 33,
   "id": "58d5ad12",
   "metadata": {},
   "outputs": [
    {
     "data": {
      "text/html": [
       "<div>\n",
       "<style scoped>\n",
       "    .dataframe tbody tr th:only-of-type {\n",
       "        vertical-align: middle;\n",
       "    }\n",
       "\n",
       "    .dataframe tbody tr th {\n",
       "        vertical-align: top;\n",
       "    }\n",
       "\n",
       "    .dataframe thead th {\n",
       "        text-align: right;\n",
       "    }\n",
       "</style>\n",
       "<table border=\"1\" class=\"dataframe\">\n",
       "  <thead>\n",
       "    <tr style=\"text-align: right;\">\n",
       "      <th></th>\n",
       "      <th>0</th>\n",
       "    </tr>\n",
       "  </thead>\n",
       "  <tbody>\n",
       "    <tr>\n",
       "      <th>0</th>\n",
       "      <td>Name</td>\n",
       "    </tr>\n",
       "    <tr>\n",
       "      <th>1</th>\n",
       "      <td>Name</td>\n",
       "    </tr>\n",
       "    <tr>\n",
       "      <th>2</th>\n",
       "      <td>vijay</td>\n",
       "    </tr>\n",
       "  </tbody>\n",
       "</table>\n",
       "</div>"
      ],
      "text/plain": [
       "       0\n",
       "0   Name\n",
       "1   Name\n",
       "2  vijay"
      ]
     },
     "execution_count": 33,
     "metadata": {},
     "output_type": "execute_result"
    }
   ],
   "source": [
    "lst = ['Name',(\"Name\"),(\"vijay\")]\n",
    "d = pd.DataFrame(lst)\n",
    "d"
   ]
  },
  {
   "cell_type": "code",
   "execution_count": 5,
   "id": "64fded56",
   "metadata": {
    "scrolled": true
   },
   "outputs": [],
   "source": [
    "import pandas as pd\n",
    "df = pd.read_csv(\"C:\\\\Users\\\\HOME123\\\\Documents\\\\Dataset\\\\tom.csv\")\n",
    "data = pd.DataFrame(df)\n",
    "# data\n",
    "# d = data.head\n",
    "# (3)-> it will print the top 3 values (we can specify how many much do you want as output).\n",
    "# data.tail(3)-> it will print the last 3 values.\n",
    "# data.describe() -> it will describe the whole data frame.\n",
    "# data.shape -> it will return the size of the data frame.\n"
   ]
  },
  {
   "cell_type": "code",
   "execution_count": null,
   "id": "afebc122",
   "metadata": {},
   "outputs": [],
   "source": []
  },
  {
   "cell_type": "code",
   "execution_count": 6,
   "id": "94dc1c86",
   "metadata": {},
   "outputs": [
    {
     "data": {
      "text/html": [
       "<div>\n",
       "<style scoped>\n",
       "    .dataframe tbody tr th:only-of-type {\n",
       "        vertical-align: middle;\n",
       "    }\n",
       "\n",
       "    .dataframe tbody tr th {\n",
       "        vertical-align: top;\n",
       "    }\n",
       "\n",
       "    .dataframe thead th {\n",
       "        text-align: right;\n",
       "    }\n",
       "</style>\n",
       "<table border=\"1\" class=\"dataframe\">\n",
       "  <thead>\n",
       "    <tr style=\"text-align: right;\">\n",
       "      <th></th>\n",
       "      <th>Eno</th>\n",
       "      <th>Ename</th>\n",
       "      <th>Job</th>\n",
       "      <th>sal</th>\n",
       "    </tr>\n",
       "  </thead>\n",
       "  <tbody>\n",
       "    <tr>\n",
       "      <th>0</th>\n",
       "      <td>501</td>\n",
       "      <td>Hima</td>\n",
       "      <td>Clerk</td>\n",
       "      <td>1000</td>\n",
       "    </tr>\n",
       "    <tr>\n",
       "      <th>1</th>\n",
       "      <td>502</td>\n",
       "      <td>Rani</td>\n",
       "      <td>Salesman</td>\n",
       "      <td>2500</td>\n",
       "    </tr>\n",
       "    <tr>\n",
       "      <th>2</th>\n",
       "      <td>503</td>\n",
       "      <td>Mahi</td>\n",
       "      <td>Develper</td>\n",
       "      <td>4000</td>\n",
       "    </tr>\n",
       "    <tr>\n",
       "      <th>3</th>\n",
       "      <td>504</td>\n",
       "      <td>Dhoni</td>\n",
       "      <td>Analyst</td>\n",
       "      <td>5000</td>\n",
       "    </tr>\n",
       "    <tr>\n",
       "      <th>4</th>\n",
       "      <td>505</td>\n",
       "      <td>Lokesh</td>\n",
       "      <td>Salesman</td>\n",
       "      <td>4500</td>\n",
       "    </tr>\n",
       "    <tr>\n",
       "      <th>5</th>\n",
       "      <td>506</td>\n",
       "      <td>Chaitu</td>\n",
       "      <td>Clerk</td>\n",
       "      <td>3500</td>\n",
       "    </tr>\n",
       "    <tr>\n",
       "      <th>6</th>\n",
       "      <td>507</td>\n",
       "      <td>Vyshnavi</td>\n",
       "      <td>Manager</td>\n",
       "      <td>3000</td>\n",
       "    </tr>\n",
       "    <tr>\n",
       "      <th>7</th>\n",
       "      <td>508</td>\n",
       "      <td>Zubair</td>\n",
       "      <td>Developer</td>\n",
       "      <td>1500</td>\n",
       "    </tr>\n",
       "  </tbody>\n",
       "</table>\n",
       "</div>"
      ],
      "text/plain": [
       "   Eno     Ename        Job   sal\n",
       "0  501      Hima      Clerk  1000\n",
       "1  502      Rani   Salesman  2500\n",
       "2  503      Mahi   Develper  4000\n",
       "3  504     Dhoni    Analyst  5000\n",
       "4  505    Lokesh   Salesman  4500\n",
       "5  506    Chaitu      Clerk  3500\n",
       "6  507  Vyshnavi    Manager  3000\n",
       "7  508    Zubair  Developer  1500"
      ]
     },
     "execution_count": 6,
     "metadata": {},
     "output_type": "execute_result"
    }
   ],
   "source": [
    "DataFrame = {'Eno':[501,502,503,504,505,506,507,508],\n",
    "             'Ename':['Hima','Rani','Mahi','Dhoni','Lokesh','Chaitu','Vyshnavi','Zubair'],\n",
    "             'Job':['Clerk','Salesman','Develper','Analyst','Salesman','Clerk','Manager','Developer'],\n",
    "             'sal':[1000,2500,4000,5000,4500,3500,3000,1500]\n",
    "            }\n",
    "frm = pd.DataFrame(DataFrame)\n",
    "frm"
   ]
  },
  {
   "cell_type": "code",
   "execution_count": 7,
   "id": "1d1d9203",
   "metadata": {},
   "outputs": [
    {
     "data": {
      "text/html": [
       "<div>\n",
       "<style scoped>\n",
       "    .dataframe tbody tr th:only-of-type {\n",
       "        vertical-align: middle;\n",
       "    }\n",
       "\n",
       "    .dataframe tbody tr th {\n",
       "        vertical-align: top;\n",
       "    }\n",
       "\n",
       "    .dataframe thead th {\n",
       "        text-align: right;\n",
       "    }\n",
       "</style>\n",
       "<table border=\"1\" class=\"dataframe\">\n",
       "  <thead>\n",
       "    <tr style=\"text-align: right;\">\n",
       "      <th></th>\n",
       "      <th>Ename</th>\n",
       "      <th>Job</th>\n",
       "      <th>sal</th>\n",
       "    </tr>\n",
       "  </thead>\n",
       "  <tbody>\n",
       "    <tr>\n",
       "      <th>0</th>\n",
       "      <td>Hima</td>\n",
       "      <td>Clerk</td>\n",
       "      <td>1000</td>\n",
       "    </tr>\n",
       "    <tr>\n",
       "      <th>2</th>\n",
       "      <td>Mahi</td>\n",
       "      <td>Develper</td>\n",
       "      <td>4000</td>\n",
       "    </tr>\n",
       "    <tr>\n",
       "      <th>4</th>\n",
       "      <td>Lokesh</td>\n",
       "      <td>Salesman</td>\n",
       "      <td>4500</td>\n",
       "    </tr>\n",
       "    <tr>\n",
       "      <th>6</th>\n",
       "      <td>Vyshnavi</td>\n",
       "      <td>Manager</td>\n",
       "      <td>3000</td>\n",
       "    </tr>\n",
       "  </tbody>\n",
       "</table>\n",
       "</div>"
      ],
      "text/plain": [
       "      Ename       Job   sal\n",
       "0      Hima     Clerk  1000\n",
       "2      Mahi  Develper  4000\n",
       "4    Lokesh  Salesman  4500\n",
       "6  Vyshnavi   Manager  3000"
      ]
     },
     "execution_count": 7,
     "metadata": {},
     "output_type": "execute_result"
    }
   ],
   "source": [
    "frm[[\"Ename\",'Job','sal']][0:7:2] "
   ]
  },
  {
   "cell_type": "code",
   "execution_count": 9,
   "id": "8dc5b3c3",
   "metadata": {
    "scrolled": false
   },
   "outputs": [
    {
     "name": "stdout",
     "output_type": "stream",
     "text": [
      "(0, Eno        501\n",
      "Ename     Hima\n",
      "Job      Clerk\n",
      "sal       1000\n",
      "Name: 0, dtype: object)\n",
      "(1, Eno           502\n",
      "Ename        Rani\n",
      "Job      Salesman\n",
      "sal          2500\n",
      "Name: 1, dtype: object)\n",
      "(2, Eno           503\n",
      "Ename        Mahi\n",
      "Job      Develper\n",
      "sal          4000\n",
      "Name: 2, dtype: object)\n",
      "(3, Eno          504\n",
      "Ename      Dhoni\n",
      "Job      Analyst\n",
      "sal         5000\n",
      "Name: 3, dtype: object)\n",
      "(4, Eno           505\n",
      "Ename      Lokesh\n",
      "Job      Salesman\n",
      "sal          4500\n",
      "Name: 4, dtype: object)\n",
      "(5, Eno         506\n",
      "Ename    Chaitu\n",
      "Job       Clerk\n",
      "sal        3500\n",
      "Name: 5, dtype: object)\n",
      "(6, Eno           507\n",
      "Ename    Vyshnavi\n",
      "Job       Manager\n",
      "sal          3000\n",
      "Name: 6, dtype: object)\n",
      "(7, Eno            508\n",
      "Ename       Zubair\n",
      "Job      Developer\n",
      "sal           1500\n",
      "Name: 7, dtype: object)\n"
     ]
    }
   ],
   "source": [
    "for i in frm.iterrows():\n",
    "    print(i)\n",
    "#each and every record will be executed in tuple format"
   ]
  },
  {
   "cell_type": "markdown",
   "id": "ade8aa36",
   "metadata": {},
   "source": [
    "# loc() and iloc()\n",
    "## iloc() wil excludes the stop index\n",
    "## iloc() represents the colums with number format\n",
    "## loc() will includes the stop index\n",
    "## loc()represents the columns with names\n",
    "## also the loc and the iloc are used to represent  the data frame through one by one record. "
   ]
  },
  {
   "cell_type": "code",
   "execution_count": 11,
   "id": "31e9c77b",
   "metadata": {},
   "outputs": [
    {
     "data": {
      "text/html": [
       "<div>\n",
       "<style scoped>\n",
       "    .dataframe tbody tr th:only-of-type {\n",
       "        vertical-align: middle;\n",
       "    }\n",
       "\n",
       "    .dataframe tbody tr th {\n",
       "        vertical-align: top;\n",
       "    }\n",
       "\n",
       "    .dataframe thead th {\n",
       "        text-align: right;\n",
       "    }\n",
       "</style>\n",
       "<table border=\"1\" class=\"dataframe\">\n",
       "  <thead>\n",
       "    <tr style=\"text-align: right;\">\n",
       "      <th></th>\n",
       "      <th>Eno</th>\n",
       "      <th>Ename</th>\n",
       "      <th>Job</th>\n",
       "      <th>sal</th>\n",
       "    </tr>\n",
       "  </thead>\n",
       "  <tbody>\n",
       "    <tr>\n",
       "      <th>0</th>\n",
       "      <td>501</td>\n",
       "      <td>Hima</td>\n",
       "      <td>Clerk</td>\n",
       "      <td>1000</td>\n",
       "    </tr>\n",
       "    <tr>\n",
       "      <th>1</th>\n",
       "      <td>502</td>\n",
       "      <td>Rani</td>\n",
       "      <td>Salesman</td>\n",
       "      <td>2500</td>\n",
       "    </tr>\n",
       "    <tr>\n",
       "      <th>2</th>\n",
       "      <td>503</td>\n",
       "      <td>Mahi</td>\n",
       "      <td>Develper</td>\n",
       "      <td>4000</td>\n",
       "    </tr>\n",
       "    <tr>\n",
       "      <th>3</th>\n",
       "      <td>504</td>\n",
       "      <td>Dhoni</td>\n",
       "      <td>Analyst</td>\n",
       "      <td>5000</td>\n",
       "    </tr>\n",
       "    <tr>\n",
       "      <th>4</th>\n",
       "      <td>505</td>\n",
       "      <td>Lokesh</td>\n",
       "      <td>Salesman</td>\n",
       "      <td>4500</td>\n",
       "    </tr>\n",
       "    <tr>\n",
       "      <th>5</th>\n",
       "      <td>506</td>\n",
       "      <td>Chaitu</td>\n",
       "      <td>Clerk</td>\n",
       "      <td>3500</td>\n",
       "    </tr>\n",
       "    <tr>\n",
       "      <th>6</th>\n",
       "      <td>507</td>\n",
       "      <td>Vyshnavi</td>\n",
       "      <td>Manager</td>\n",
       "      <td>3000</td>\n",
       "    </tr>\n",
       "    <tr>\n",
       "      <th>7</th>\n",
       "      <td>508</td>\n",
       "      <td>Zubair</td>\n",
       "      <td>Developer</td>\n",
       "      <td>1500</td>\n",
       "    </tr>\n",
       "  </tbody>\n",
       "</table>\n",
       "</div>"
      ],
      "text/plain": [
       "   Eno     Ename        Job   sal\n",
       "0  501      Hima      Clerk  1000\n",
       "1  502      Rani   Salesman  2500\n",
       "2  503      Mahi   Develper  4000\n",
       "3  504     Dhoni    Analyst  5000\n",
       "4  505    Lokesh   Salesman  4500\n",
       "5  506    Chaitu      Clerk  3500\n",
       "6  507  Vyshnavi    Manager  3000\n",
       "7  508    Zubair  Developer  1500"
      ]
     },
     "execution_count": 11,
     "metadata": {},
     "output_type": "execute_result"
    }
   ],
   "source": [
    "frm"
   ]
  },
  {
   "cell_type": "markdown",
   "id": "2a72fa77",
   "metadata": {},
   "source": [
    "# Loc[]"
   ]
  },
  {
   "cell_type": "code",
   "execution_count": 13,
   "id": "79ad88d2",
   "metadata": {},
   "outputs": [
    {
     "data": {
      "text/plain": [
       "Eno           502\n",
       "Ename        Rani\n",
       "Job      Salesman\n",
       "sal          2500\n",
       "Name: 1, dtype: object"
      ]
     },
     "execution_count": 13,
     "metadata": {},
     "output_type": "execute_result"
    }
   ],
   "source": [
    "#accessning the dataframe using loc with row number\n",
    "frm.loc[1]"
   ]
  },
  {
   "cell_type": "code",
   "execution_count": 22,
   "id": "75ff96df",
   "metadata": {},
   "outputs": [
    {
     "data": {
      "text/html": [
       "<div>\n",
       "<style scoped>\n",
       "    .dataframe tbody tr th:only-of-type {\n",
       "        vertical-align: middle;\n",
       "    }\n",
       "\n",
       "    .dataframe tbody tr th {\n",
       "        vertical-align: top;\n",
       "    }\n",
       "\n",
       "    .dataframe thead th {\n",
       "        text-align: right;\n",
       "    }\n",
       "</style>\n",
       "<table border=\"1\" class=\"dataframe\">\n",
       "  <thead>\n",
       "    <tr style=\"text-align: right;\">\n",
       "      <th></th>\n",
       "      <th>Eno</th>\n",
       "    </tr>\n",
       "  </thead>\n",
       "  <tbody>\n",
       "    <tr>\n",
       "      <th>1</th>\n",
       "      <td>502</td>\n",
       "    </tr>\n",
       "    <tr>\n",
       "      <th>2</th>\n",
       "      <td>503</td>\n",
       "    </tr>\n",
       "    <tr>\n",
       "      <th>3</th>\n",
       "      <td>504</td>\n",
       "    </tr>\n",
       "    <tr>\n",
       "      <th>4</th>\n",
       "      <td>505</td>\n",
       "    </tr>\n",
       "    <tr>\n",
       "      <th>5</th>\n",
       "      <td>506</td>\n",
       "    </tr>\n",
       "    <tr>\n",
       "      <th>6</th>\n",
       "      <td>507</td>\n",
       "    </tr>\n",
       "    <tr>\n",
       "      <th>7</th>\n",
       "      <td>508</td>\n",
       "    </tr>\n",
       "  </tbody>\n",
       "</table>\n",
       "</div>"
      ],
      "text/plain": [
       "   Eno\n",
       "1  502\n",
       "2  503\n",
       "3  504\n",
       "4  505\n",
       "5  506\n",
       "6  507\n",
       "7  508"
      ]
     },
     "execution_count": 22,
     "metadata": {},
     "output_type": "execute_result"
    }
   ],
   "source": [
    "#accessing the dataframe by using loc with row number and column name\n",
    "frm.loc[[i for i in range (1,8)  ],['Eno']]"
   ]
  },
  {
   "cell_type": "code",
   "execution_count": 25,
   "id": "a8f8b5b2",
   "metadata": {},
   "outputs": [
    {
     "data": {
      "text/html": [
       "<div>\n",
       "<style scoped>\n",
       "    .dataframe tbody tr th:only-of-type {\n",
       "        vertical-align: middle;\n",
       "    }\n",
       "\n",
       "    .dataframe tbody tr th {\n",
       "        vertical-align: top;\n",
       "    }\n",
       "\n",
       "    .dataframe thead th {\n",
       "        text-align: right;\n",
       "    }\n",
       "</style>\n",
       "<table border=\"1\" class=\"dataframe\">\n",
       "  <thead>\n",
       "    <tr style=\"text-align: right;\">\n",
       "      <th></th>\n",
       "      <th>Eno</th>\n",
       "      <th>Ename</th>\n",
       "      <th>Job</th>\n",
       "      <th>sal</th>\n",
       "    </tr>\n",
       "  </thead>\n",
       "  <tbody>\n",
       "    <tr>\n",
       "      <th>0</th>\n",
       "      <td>501</td>\n",
       "      <td>Hima</td>\n",
       "      <td>Clerk</td>\n",
       "      <td>1000</td>\n",
       "    </tr>\n",
       "    <tr>\n",
       "      <th>1</th>\n",
       "      <td>502</td>\n",
       "      <td>Rani</td>\n",
       "      <td>Salesman</td>\n",
       "      <td>2500</td>\n",
       "    </tr>\n",
       "    <tr>\n",
       "      <th>2</th>\n",
       "      <td>503</td>\n",
       "      <td>Mahi</td>\n",
       "      <td>Develper</td>\n",
       "      <td>4000</td>\n",
       "    </tr>\n",
       "    <tr>\n",
       "      <th>3</th>\n",
       "      <td>504</td>\n",
       "      <td>Dhoni</td>\n",
       "      <td>Analyst</td>\n",
       "      <td>5000</td>\n",
       "    </tr>\n",
       "    <tr>\n",
       "      <th>4</th>\n",
       "      <td>505</td>\n",
       "      <td>Lokesh</td>\n",
       "      <td>Salesman</td>\n",
       "      <td>4500</td>\n",
       "    </tr>\n",
       "    <tr>\n",
       "      <th>5</th>\n",
       "      <td>506</td>\n",
       "      <td>Chaitu</td>\n",
       "      <td>Clerk</td>\n",
       "      <td>3500</td>\n",
       "    </tr>\n",
       "    <tr>\n",
       "      <th>6</th>\n",
       "      <td>507</td>\n",
       "      <td>Vyshnavi</td>\n",
       "      <td>Manager</td>\n",
       "      <td>3000</td>\n",
       "    </tr>\n",
       "  </tbody>\n",
       "</table>\n",
       "</div>"
      ],
      "text/plain": [
       "   Eno     Ename       Job   sal\n",
       "0  501      Hima     Clerk  1000\n",
       "1  502      Rani  Salesman  2500\n",
       "2  503      Mahi  Develper  4000\n",
       "3  504     Dhoni   Analyst  5000\n",
       "4  505    Lokesh  Salesman  4500\n",
       "5  506    Chaitu     Clerk  3500\n",
       "6  507  Vyshnavi   Manager  3000"
      ]
     },
     "execution_count": 25,
     "metadata": {},
     "output_type": "execute_result"
    }
   ],
   "source": [
    "frm.loc[0:6] # in this actually It should be between 0 to 5 only but the loc includes the stop index"
   ]
  },
  {
   "cell_type": "code",
   "execution_count": 30,
   "id": "36262bfc",
   "metadata": {},
   "outputs": [
    {
     "data": {
      "text/html": [
       "<div>\n",
       "<style scoped>\n",
       "    .dataframe tbody tr th:only-of-type {\n",
       "        vertical-align: middle;\n",
       "    }\n",
       "\n",
       "    .dataframe tbody tr th {\n",
       "        vertical-align: top;\n",
       "    }\n",
       "\n",
       "    .dataframe thead th {\n",
       "        text-align: right;\n",
       "    }\n",
       "</style>\n",
       "<table border=\"1\" class=\"dataframe\">\n",
       "  <thead>\n",
       "    <tr style=\"text-align: right;\">\n",
       "      <th></th>\n",
       "      <th>Eno</th>\n",
       "      <th>Ename</th>\n",
       "    </tr>\n",
       "  </thead>\n",
       "  <tbody>\n",
       "    <tr>\n",
       "      <th>0</th>\n",
       "      <td>501</td>\n",
       "      <td>Hima</td>\n",
       "    </tr>\n",
       "    <tr>\n",
       "      <th>1</th>\n",
       "      <td>502</td>\n",
       "      <td>Rani</td>\n",
       "    </tr>\n",
       "    <tr>\n",
       "      <th>2</th>\n",
       "      <td>503</td>\n",
       "      <td>Mahi</td>\n",
       "    </tr>\n",
       "    <tr>\n",
       "      <th>3</th>\n",
       "      <td>504</td>\n",
       "      <td>Dhoni</td>\n",
       "    </tr>\n",
       "    <tr>\n",
       "      <th>4</th>\n",
       "      <td>505</td>\n",
       "      <td>Lokesh</td>\n",
       "    </tr>\n",
       "  </tbody>\n",
       "</table>\n",
       "</div>"
      ],
      "text/plain": [
       "   Eno   Ename\n",
       "0  501    Hima\n",
       "1  502    Rani\n",
       "2  503    Mahi\n",
       "3  504   Dhoni\n",
       "4  505  Lokesh"
      ]
     },
     "execution_count": 30,
     "metadata": {},
     "output_type": "execute_result"
    }
   ],
   "source": [
    "frm.loc[0:4,'Eno':'Ename'] # we cangive the column names as the start,stop index"
   ]
  },
  {
   "cell_type": "code",
   "execution_count": 31,
   "id": "f275a4ce",
   "metadata": {},
   "outputs": [
    {
     "data": {
      "text/html": [
       "<div>\n",
       "<style scoped>\n",
       "    .dataframe tbody tr th:only-of-type {\n",
       "        vertical-align: middle;\n",
       "    }\n",
       "\n",
       "    .dataframe tbody tr th {\n",
       "        vertical-align: top;\n",
       "    }\n",
       "\n",
       "    .dataframe thead th {\n",
       "        text-align: right;\n",
       "    }\n",
       "</style>\n",
       "<table border=\"1\" class=\"dataframe\">\n",
       "  <thead>\n",
       "    <tr style=\"text-align: right;\">\n",
       "      <th></th>\n",
       "      <th>Eno</th>\n",
       "      <th>Ename</th>\n",
       "    </tr>\n",
       "  </thead>\n",
       "  <tbody>\n",
       "    <tr>\n",
       "      <th>2</th>\n",
       "      <td>503</td>\n",
       "      <td>Mahi</td>\n",
       "    </tr>\n",
       "    <tr>\n",
       "      <th>3</th>\n",
       "      <td>504</td>\n",
       "      <td>Dhoni</td>\n",
       "    </tr>\n",
       "    <tr>\n",
       "      <th>4</th>\n",
       "      <td>505</td>\n",
       "      <td>Lokesh</td>\n",
       "    </tr>\n",
       "    <tr>\n",
       "      <th>5</th>\n",
       "      <td>506</td>\n",
       "      <td>Chaitu</td>\n",
       "    </tr>\n",
       "    <tr>\n",
       "      <th>6</th>\n",
       "      <td>507</td>\n",
       "      <td>Vyshnavi</td>\n",
       "    </tr>\n",
       "    <tr>\n",
       "      <th>7</th>\n",
       "      <td>508</td>\n",
       "      <td>Zubair</td>\n",
       "    </tr>\n",
       "  </tbody>\n",
       "</table>\n",
       "</div>"
      ],
      "text/plain": [
       "   Eno     Ename\n",
       "2  503      Mahi\n",
       "3  504     Dhoni\n",
       "4  505    Lokesh\n",
       "5  506    Chaitu\n",
       "6  507  Vyshnavi\n",
       "7  508    Zubair"
      ]
     },
     "execution_count": 31,
     "metadata": {},
     "output_type": "execute_result"
    }
   ],
   "source": [
    "frm.loc[2:7,['Eno','Ename']]"
   ]
  },
  {
   "cell_type": "markdown",
   "id": "bceed39a",
   "metadata": {},
   "source": [
    "# iloc[]"
   ]
  },
  {
   "cell_type": "code",
   "execution_count": 36,
   "id": "c62de522",
   "metadata": {},
   "outputs": [
    {
     "data": {
      "text/plain": [
       "sal       1000\n",
       "Job      Clerk\n",
       "Ename     Hima\n",
       "Name: 0, dtype: object"
      ]
     },
     "execution_count": 36,
     "metadata": {},
     "output_type": "execute_result"
    }
   ],
   "source": [
    "# 1. dataframe.iloc[row_number,[column_number1,column_number2,....]]\n",
    "data = frm\n",
    "data.iloc[0,[3,2,1]]"
   ]
  },
  {
   "cell_type": "code",
   "execution_count": 39,
   "id": "c861350a",
   "metadata": {},
   "outputs": [
    {
     "data": {
      "text/html": [
       "<div>\n",
       "<style scoped>\n",
       "    .dataframe tbody tr th:only-of-type {\n",
       "        vertical-align: middle;\n",
       "    }\n",
       "\n",
       "    .dataframe tbody tr th {\n",
       "        vertical-align: top;\n",
       "    }\n",
       "\n",
       "    .dataframe thead th {\n",
       "        text-align: right;\n",
       "    }\n",
       "</style>\n",
       "<table border=\"1\" class=\"dataframe\">\n",
       "  <thead>\n",
       "    <tr style=\"text-align: right;\">\n",
       "      <th></th>\n",
       "      <th>Eno</th>\n",
       "      <th>Ename</th>\n",
       "      <th>Job</th>\n",
       "    </tr>\n",
       "  </thead>\n",
       "  <tbody>\n",
       "    <tr>\n",
       "      <th>0</th>\n",
       "      <td>501</td>\n",
       "      <td>Hima</td>\n",
       "      <td>Clerk</td>\n",
       "    </tr>\n",
       "    <tr>\n",
       "      <th>1</th>\n",
       "      <td>502</td>\n",
       "      <td>Rani</td>\n",
       "      <td>Salesman</td>\n",
       "    </tr>\n",
       "    <tr>\n",
       "      <th>2</th>\n",
       "      <td>503</td>\n",
       "      <td>Mahi</td>\n",
       "      <td>Develper</td>\n",
       "    </tr>\n",
       "    <tr>\n",
       "      <th>3</th>\n",
       "      <td>504</td>\n",
       "      <td>Dhoni</td>\n",
       "      <td>Analyst</td>\n",
       "    </tr>\n",
       "    <tr>\n",
       "      <th>4</th>\n",
       "      <td>505</td>\n",
       "      <td>Lokesh</td>\n",
       "      <td>Salesman</td>\n",
       "    </tr>\n",
       "  </tbody>\n",
       "</table>\n",
       "</div>"
      ],
      "text/plain": [
       "   Eno   Ename       Job\n",
       "0  501    Hima     Clerk\n",
       "1  502    Rani  Salesman\n",
       "2  503    Mahi  Develper\n",
       "3  504   Dhoni   Analyst\n",
       "4  505  Lokesh  Salesman"
      ]
     },
     "execution_count": 39,
     "metadata": {},
     "output_type": "execute_result"
    }
   ],
   "source": [
    "# 2. dataframe.iloc[row_start:row_stop,column_start:column_stop]\n",
    "data.iloc[0:5,0:3]"
   ]
  },
  {
   "cell_type": "code",
   "execution_count": 4,
   "id": "2f83ab4c",
   "metadata": {},
   "outputs": [
    {
     "data": {
      "text/html": [
       "<div>\n",
       "<style scoped>\n",
       "    .dataframe tbody tr th:only-of-type {\n",
       "        vertical-align: middle;\n",
       "    }\n",
       "\n",
       "    .dataframe tbody tr th {\n",
       "        vertical-align: top;\n",
       "    }\n",
       "\n",
       "    .dataframe thead th {\n",
       "        text-align: right;\n",
       "    }\n",
       "</style>\n",
       "<table border=\"1\" class=\"dataframe\">\n",
       "  <thead>\n",
       "    <tr style=\"text-align: right;\">\n",
       "      <th></th>\n",
       "      <th>0</th>\n",
       "    </tr>\n",
       "  </thead>\n",
       "  <tbody>\n",
       "    <tr>\n",
       "      <th>0</th>\n",
       "      <td>section</td>\n",
       "    </tr>\n",
       "    <tr>\n",
       "      <th>1</th>\n",
       "      <td>(1, 2, 3)</td>\n",
       "    </tr>\n",
       "  </tbody>\n",
       "</table>\n",
       "</div>"
      ],
      "text/plain": [
       "           0\n",
       "0    section\n",
       "1  (1, 2, 3)"
      ]
     },
     "execution_count": 4,
     "metadata": {},
     "output_type": "execute_result"
    }
   ],
   "source": [
    "d =  ['section',\n",
    "      (1,2,3)]\n",
    "p = pd.DataFrame(d)\n",
    "p"
   ]
  },
  {
   "cell_type": "code",
   "execution_count": null,
   "id": "9b17f352",
   "metadata": {},
   "outputs": [],
   "source": []
  }
 ],
 "metadata": {
  "kernelspec": {
   "display_name": "Python 3 (ipykernel)",
   "language": "python",
   "name": "python3"
  },
  "language_info": {
   "codemirror_mode": {
    "name": "ipython",
    "version": 3
   },
   "file_extension": ".py",
   "mimetype": "text/x-python",
   "name": "python",
   "nbconvert_exporter": "python",
   "pygments_lexer": "ipython3",
   "version": "3.11.5"
  }
 },
 "nbformat": 4,
 "nbformat_minor": 5
}

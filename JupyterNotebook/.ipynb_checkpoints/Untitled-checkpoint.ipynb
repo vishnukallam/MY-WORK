{
 "cells": [
  {
   "cell_type": "code",
   "execution_count": null,
   "id": "172b4423",
   "metadata": {},
   "outputs": [],
   "source": [
    "#Exercise-G\n",
    "# 1\n",
    "pd.set_option('display.max_rows', None)\n",
    "pd.set_option('display.max_columns', None)\n",
    "ds = {'school':['s001','s002','s003','s001','s002','s004'],\n",
    "     'name': ['Alberto Franco','Gino Mcneill','Ryan Parkes','Eesha Hinton','Gino Mcneill','David Parkes'],\n",
    "     'date_Of_Birth':['15/05/2002','17/05/2002','16/02/1999','25/09/1998','11/05/2002','11/05/2002'],\n",
    "      'age':[12,12,13,13,14,12],\n",
    "      'height':[173,192,186,167,151,159],\n",
    "      'weight':[35,32,33,30,31,32],\n",
    "      'address':['street1','street2','street3','street1','street2','street4']\n",
    "     }\n",
    "dataset = pd.DataFrame(ds,index=['s1','s2','s3','s4','s5','s6'])\n",
    "dataset\n",
    "result= dataset.groupby(['school'])\n",
    "for name,group in result:\n",
    "    print(\"\\nGroup:\")\n",
    "    print(name)\n",
    "    print(group)\n",
    "print(type(dataset.groupby(['school'])))\n",
    "result\n",
    "# 2\n",
    "#print('\\nMean, min, and max value of age for each value of the school:')\n",
    "#grouped_single = dataset.groupby('school').agg({'age': ['mean','min', 'max']})\n",
    "#print(grouped_single)"
   ]
  },
  {
   "cell_type": "code",
   "execution_count": null,
   "id": "3dca1cfc",
   "metadata": {},
   "outputs": [],
   "source": [
    "#Exercise - H\n",
    "#1\n",
    "np.random.seed(24)\n",
    "df = pd.DataFrame({'A': np.linspace(1, 10, 10)})\n",
    "df = pd.concat([df, pd.DataFrame(np.random.randn(10, 4), columns=list('BCDE'))], axis=1)\n",
    "def color_negative_red(val):\n",
    "    color = 'red' if val < 0 else 'black' \n",
    "    return 'color: %s' % color\n",
    "#print(\"\\nNegative numbers red and positive numbers black:\")\n",
    "df.style.applymap(color_negative_red)\n",
    "\n",
    "#2\n",
    "np.random.seed(24)\n",
    "df = pd.DataFrame({'A': np.linspace(1, 10, 10)})\n",
    "df = pd.concat([df, pd.DataFrame(np.random.randn(10, 4), columns=list('BCDE'))], axis=1)\n",
    "df.iloc[0, 2] = np.nan\n",
    "df.iloc[3, 3] = np.nan\n",
    "df.iloc[4, 1] = np.nan\n",
    "df.iloc[9, 4] = np.nan\n",
    "def highlight_max(s):\n",
    "    is_max = s == s.max()\n",
    "    return ['background-color: green' if v else '' for v in is_max]\n",
    "print(\"\\nHighlight the maximum value in each column:\")\n",
    "df.style.apply(highlight_max,subset=pd.IndexSlice[:, ['B', 'C', 'D', 'E']])\n",
    "\n",
    "#3\n",
    "np.random.seed(24)\n",
    "df = pd.DataFrame({'A': np.linspace(1, 10, 10)})\n",
    "df = pd.concat([df, pd.DataFrame(np.random.randn(10, 4), columns=list('BCDE'))], axis=1)\n",
    "df.iloc[0, 2] = np.nan\n",
    "df.iloc[3, 3] = np.nan\n",
    "df.iloc[4, 1] = np.nan\n",
    "df.iloc[9, 4] = np.nan\n",
    "def highlight_cols(s):\n",
    "    color = 'red' \n",
    "    return 'background-color: %s' % color\n",
    "print(\"\\nHighlight specific columns:\")\n",
    "df.style.applymap(highlight_cols, subset=pd.IndexSlice[:, ['B', 'C','E']])"
   ]
  }
 ],
 "metadata": {
  "kernelspec": {
   "display_name": "Python 3 (ipykernel)",
   "language": "python",
   "name": "python3"
  },
  "language_info": {
   "codemirror_mode": {
    "name": "ipython",
    "version": 3
   },
   "file_extension": ".py",
   "mimetype": "text/x-python",
   "name": "python",
   "nbconvert_exporter": "python",
   "pygments_lexer": "ipython3",
   "version": "3.11.5"
  }
 },
 "nbformat": 4,
 "nbformat_minor": 5
}

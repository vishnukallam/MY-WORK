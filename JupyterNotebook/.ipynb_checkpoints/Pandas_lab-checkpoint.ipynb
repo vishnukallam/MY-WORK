{
 "cells": [
  {
   "cell_type": "markdown",
   "id": "544e2f2d",
   "metadata": {},
   "source": [
    "# Creation of series"
   ]
  },
  {
   "cell_type": "code",
   "execution_count": 1,
   "id": "96a0e065",
   "metadata": {},
   "outputs": [],
   "source": [
    "import pandas as pd\n",
    "import numpy as np"
   ]
  },
  {
   "cell_type": "code",
   "execution_count": 7,
   "id": "ef8d44ab",
   "metadata": {},
   "outputs": [
    {
     "name": "stdout",
     "output_type": "stream",
     "text": [
      "1     *****10000\n",
      "2    *****200000\n",
      "3     *****30000\n",
      "dtype: object\n",
      "1    10000*****\n",
      "2    200000****\n",
      "3    30000*****\n",
      "dtype: object\n"
     ]
    }
   ],
   "source": [
    "a = ['*****10000*****','*****200000****','*****30000*****']\n",
    "s= pd.Series(a,index = [1,2,3])\n",
    "print(s.str.rstrip('*'))\n",
    "print(s.str.lstrip('*'))\n"
   ]
  },
  {
   "cell_type": "code",
   "execution_count": 2,
   "id": "632dac6d",
   "metadata": {},
   "outputs": [
    {
     "name": "stdout",
     "output_type": "stream",
     "text": [
      "numpy array :[ 6 12 18 24 30 36 42 48 54 60]\n",
      "Converted pandas series : \n",
      "0     6\n",
      "1    12\n",
      "2    18\n",
      "3    24\n",
      "4    30\n",
      "5    36\n",
      "6    42\n",
      "7    48\n",
      "8    54\n",
      "9    60\n",
      "dtype: int32\n"
     ]
    }
   ],
   "source": [
    "arr = np.array([i for i in range(1,60+1) if i % 6 == 0])\n",
    "print(f\"numpy array :{arr}\")\n",
    "dt = pd.Series(arr)\n",
    "print(f\"Converted pandas series : \\n{dt}\")"
   ]
  },
  {
   "cell_type": "code",
   "execution_count": 3,
   "id": "b38c01d7",
   "metadata": {},
   "outputs": [
    {
     "name": "stdout",
     "output_type": "stream",
     "text": [
      "name       vishu\n",
      "RollNo      1056\n",
      "section        C\n",
      "dtype: object\n"
     ]
    }
   ],
   "source": [
    "dst = {'name':'vishu','RollNo':1056,'section':'C'}\n",
    "ds = pd.Series(dst)\n",
    "print(ds)"
   ]
  },
  {
   "cell_type": "code",
   "execution_count": 4,
   "id": "0acabc00",
   "metadata": {},
   "outputs": [
    {
     "name": "stdout",
     "output_type": "stream",
     "text": [
      "enter an integer value:4\n"
     ]
    },
    {
     "data": {
      "text/plain": [
       "Series([], dtype: object)"
      ]
     },
     "execution_count": 4,
     "metadata": {},
     "output_type": "execute_result"
    }
   ],
   "source": [
    "n =int(input(\"enter an integer value:\"))\n",
    "lst = [i for i in range(10,n+1,10)]\n",
    "data = pd.Series(lst)\n",
    "data"
   ]
  },
  {
   "cell_type": "code",
   "execution_count": 5,
   "id": "0907bd47",
   "metadata": {},
   "outputs": [
    {
     "name": "stdout",
     "output_type": "stream",
     "text": [
      "0     1\n",
      "1     2\n",
      "2     3\n",
      "3    43\n",
      "4     4\n",
      "5     5\n",
      "6     6\n",
      "dtype: int64\n"
     ]
    }
   ],
   "source": [
    "def dataseries(l):\n",
    "    ds = pd.Series(l)\n",
    "    return ds\n",
    "l = [1,2,3,43,4,5,6]\n",
    "print(dataseries(l))"
   ]
  },
  {
   "cell_type": "code",
   "execution_count": 6,
   "id": "8228de54",
   "metadata": {},
   "outputs": [
    {
     "name": "stdout",
     "output_type": "stream",
     "text": [
      "Enter a number30\n",
      "[6, 12, 18, 24]\n",
      "[7, 14, 21, 28]\n",
      "0    13\n",
      "1    26\n",
      "2    39\n",
      "3    52\n",
      "dtype: int64\n",
      "0   -1\n",
      "1   -2\n",
      "2   -3\n",
      "3   -4\n",
      "dtype: int64\n",
      "0     42\n",
      "1    168\n",
      "2    378\n",
      "3    672\n",
      "dtype: int64\n",
      "0    0.857143\n",
      "1    0.857143\n",
      "2    0.857143\n",
      "3    0.857143\n",
      "dtype: float64\n"
     ]
    }
   ],
   "source": [
    "m = int(input(\"Enter a number\"))\n",
    "lst1 = [i for i in range (1,m) if i % 6 == 0 ]\n",
    "lst2 = [i for i in range (1,m) if i % 7 == 0 ]\n",
    "print(lst1)\n",
    "print(lst2)\n",
    "dataseries = pd.Series(lst1) \n",
    "dataseries1 = pd.Series(lst2)\n",
    "add = dataseries+dataseries1\n",
    "sub = dataseries-dataseries1\n",
    "mul = dataseries*dataseries1\n",
    "div = dataseries/dataseries1\n",
    "print(add)\n",
    "print(sub)\n",
    "print(mul)\n",
    "print(div)"
   ]
  },
  {
   "cell_type": "markdown",
   "id": "3eca81c4",
   "metadata": {},
   "source": [
    "# Creation of Data Frame."
   ]
  },
  {
   "cell_type": "code",
   "execution_count": 4,
   "id": "bd93eb79",
   "metadata": {},
   "outputs": [],
   "source": [
    "import pandas as pd\n",
    "import numpy as np"
   ]
  },
  {
   "cell_type": "code",
   "execution_count": 30,
   "id": "d29ab75a",
   "metadata": {},
   "outputs": [
    {
     "data": {
      "text/html": [
       "<div>\n",
       "<style scoped>\n",
       "    .dataframe tbody tr th:only-of-type {\n",
       "        vertical-align: middle;\n",
       "    }\n",
       "\n",
       "    .dataframe tbody tr th {\n",
       "        vertical-align: top;\n",
       "    }\n",
       "\n",
       "    .dataframe thead th {\n",
       "        text-align: right;\n",
       "    }\n",
       "</style>\n",
       "<table border=\"1\" class=\"dataframe\">\n",
       "  <thead>\n",
       "    <tr style=\"text-align: right;\">\n",
       "      <th></th>\n",
       "      <th>name</th>\n",
       "      <th>Subject</th>\n",
       "      <th>Periods</th>\n",
       "    </tr>\n",
       "  </thead>\n",
       "  <tbody>\n",
       "    <tr>\n",
       "      <th>0</th>\n",
       "      <td>Santha</td>\n",
       "      <td>DBMS</td>\n",
       "      <td>1</td>\n",
       "    </tr>\n",
       "    <tr>\n",
       "      <th>1</th>\n",
       "      <td>Kumari</td>\n",
       "      <td>FLAT</td>\n",
       "      <td>4</td>\n",
       "    </tr>\n",
       "    <tr>\n",
       "      <th>2</th>\n",
       "      <td>kumar</td>\n",
       "      <td>CNS</td>\n",
       "      <td>2</td>\n",
       "    </tr>\n",
       "    <tr>\n",
       "      <th>3</th>\n",
       "      <td>Krishna</td>\n",
       "      <td>JAVA</td>\n",
       "      <td>5</td>\n",
       "    </tr>\n",
       "  </tbody>\n",
       "</table>\n",
       "</div>"
      ],
      "text/plain": [
       "      name Subject  Periods\n",
       "0   Santha    DBMS        1\n",
       "1   Kumari    FLAT        4\n",
       "2    kumar     CNS        2\n",
       "3  Krishna    JAVA        5"
      ]
     },
     "execution_count": 30,
     "metadata": {},
     "output_type": "execute_result"
    }
   ],
   "source": [
    "data = {\"name\":[\"Santha\",'Kumari','kumar','Krishna'], \n",
    "        'Subject':['DBMS','FLAT','CNS','JAVA'],\n",
    "        'Periods':[1,4,2,5]\n",
    "       }\n",
    "df = pd.DataFrame(data)\n",
    "df"
   ]
  },
  {
   "cell_type": "markdown",
   "id": "b94e28dd",
   "metadata": {},
   "source": [
    "#  Replacing the column name with another column name  "
   ]
  },
  {
   "cell_type": "code",
   "execution_count": 31,
   "id": "08ee92ed",
   "metadata": {},
   "outputs": [
    {
     "data": {
      "text/html": [
       "<div>\n",
       "<style scoped>\n",
       "    .dataframe tbody tr th:only-of-type {\n",
       "        vertical-align: middle;\n",
       "    }\n",
       "\n",
       "    .dataframe tbody tr th {\n",
       "        vertical-align: top;\n",
       "    }\n",
       "\n",
       "    .dataframe thead th {\n",
       "        text-align: right;\n",
       "    }\n",
       "</style>\n",
       "<table border=\"1\" class=\"dataframe\">\n",
       "  <thead>\n",
       "    <tr style=\"text-align: right;\">\n",
       "      <th></th>\n",
       "      <th>name</th>\n",
       "      <th>Subject</th>\n",
       "      <th>Periods</th>\n",
       "    </tr>\n",
       "  </thead>\n",
       "  <tbody>\n",
       "    <tr>\n",
       "      <th>0</th>\n",
       "      <td>Santha</td>\n",
       "      <td>DBMS</td>\n",
       "      <td>1</td>\n",
       "    </tr>\n",
       "    <tr>\n",
       "      <th>1</th>\n",
       "      <td>Kumari</td>\n",
       "      <td>FLAT</td>\n",
       "      <td>4</td>\n",
       "    </tr>\n",
       "    <tr>\n",
       "      <th>2</th>\n",
       "      <td>Ram</td>\n",
       "      <td>CNS</td>\n",
       "      <td>2</td>\n",
       "    </tr>\n",
       "    <tr>\n",
       "      <th>3</th>\n",
       "      <td>Sudeep</td>\n",
       "      <td>JAVA</td>\n",
       "      <td>5</td>\n",
       "    </tr>\n",
       "  </tbody>\n",
       "</table>\n",
       "</div>"
      ],
      "text/plain": [
       "     name Subject  Periods\n",
       "0  Santha    DBMS        1\n",
       "1  Kumari    FLAT        4\n",
       "2     Ram     CNS        2\n",
       "3  Sudeep    JAVA        5"
      ]
     },
     "execution_count": 31,
     "metadata": {},
     "output_type": "execute_result"
    }
   ],
   "source": [
    "df['name'] = df['name'].replace('Krishna','Sudeep')\n",
    "df['name'] = df['name'].replace('kumar','Ram')\n",
    "df"
   ]
  },
  {
   "cell_type": "markdown",
   "id": "be255066",
   "metadata": {},
   "source": [
    "# Inserting a new column into the dataframe\n",
    "## while introducing the new column the shape of thr column and shape of the dataframe should  be equal"
   ]
  },
  {
   "cell_type": "code",
   "execution_count": 36,
   "id": "2f7c45c5",
   "metadata": {},
   "outputs": [
    {
     "data": {
      "text/html": [
       "<div>\n",
       "<style scoped>\n",
       "    .dataframe tbody tr th:only-of-type {\n",
       "        vertical-align: middle;\n",
       "    }\n",
       "\n",
       "    .dataframe tbody tr th {\n",
       "        vertical-align: top;\n",
       "    }\n",
       "\n",
       "    .dataframe thead th {\n",
       "        text-align: right;\n",
       "    }\n",
       "</style>\n",
       "<table border=\"1\" class=\"dataframe\">\n",
       "  <thead>\n",
       "    <tr style=\"text-align: right;\">\n",
       "      <th></th>\n",
       "      <th>name</th>\n",
       "      <th>Subject</th>\n",
       "      <th>Periods</th>\n",
       "      <th>CLASS</th>\n",
       "      <th>SECTIONS</th>\n",
       "    </tr>\n",
       "  </thead>\n",
       "  <tbody>\n",
       "    <tr>\n",
       "      <th>0</th>\n",
       "      <td>Santha</td>\n",
       "      <td>DBMS</td>\n",
       "      <td>1</td>\n",
       "      <td>II</td>\n",
       "      <td>CSE_C</td>\n",
       "    </tr>\n",
       "    <tr>\n",
       "      <th>1</th>\n",
       "      <td>Kumari</td>\n",
       "      <td>FLAT</td>\n",
       "      <td>4</td>\n",
       "      <td>II</td>\n",
       "      <td>CSE_A</td>\n",
       "    </tr>\n",
       "    <tr>\n",
       "      <th>2</th>\n",
       "      <td>Ram</td>\n",
       "      <td>CNS</td>\n",
       "      <td>2</td>\n",
       "      <td>III</td>\n",
       "      <td>AI&amp;DS</td>\n",
       "    </tr>\n",
       "    <tr>\n",
       "      <th>3</th>\n",
       "      <td>Sudeep</td>\n",
       "      <td>JAVA</td>\n",
       "      <td>5</td>\n",
       "      <td>II</td>\n",
       "      <td>CSE_B</td>\n",
       "    </tr>\n",
       "  </tbody>\n",
       "</table>\n",
       "</div>"
      ],
      "text/plain": [
       "     name Subject  Periods CLASS SECTIONS\n",
       "0  Santha    DBMS        1    II    CSE_C\n",
       "1  Kumari    FLAT        4    II    CSE_A\n",
       "2     Ram     CNS        2   III    AI&DS\n",
       "3  Sudeep    JAVA        5    II    CSE_B"
      ]
     },
     "execution_count": 36,
     "metadata": {},
     "output_type": "execute_result"
    }
   ],
   "source": [
    "classes = ['II','II','III','II']\n",
    "df['CLASS'] = classes\n",
    "sections = ['CSE_C','CSE_A','AI&DS','CSE_B']\n",
    "df['SECTIONS']= sections\n",
    "d=df\n",
    "d"
   ]
  },
  {
   "cell_type": "code",
   "execution_count": null,
   "id": "523b18e1",
   "metadata": {},
   "outputs": [],
   "source": [
    "m = df[\"java\"] <= 40"
   ]
  },
  {
   "cell_type": "code",
   "execution_count": 38,
   "id": "131232f4",
   "metadata": {},
   "outputs": [
    {
     "name": "stdout",
     "output_type": "stream",
     "text": [
      "name        Santha\n",
      "Subject       DBMS\n",
      "Periods          1\n",
      "CLASS           II\n",
      "SECTIONS     CSE_C\n",
      "Name: 0, dtype: object\n"
     ]
    }
   ],
   "source": [
    "print(d.iloc[0])\n"
   ]
  },
  {
   "cell_type": "code",
   "execution_count": 41,
   "id": "cc1d5f1a",
   "metadata": {},
   "outputs": [
    {
     "data": {
      "text/html": [
       "<div>\n",
       "<style scoped>\n",
       "    .dataframe tbody tr th:only-of-type {\n",
       "        vertical-align: middle;\n",
       "    }\n",
       "\n",
       "    .dataframe tbody tr th {\n",
       "        vertical-align: top;\n",
       "    }\n",
       "\n",
       "    .dataframe thead th {\n",
       "        text-align: right;\n",
       "    }\n",
       "</style>\n",
       "<table border=\"1\" class=\"dataframe\">\n",
       "  <thead>\n",
       "    <tr style=\"text-align: right;\">\n",
       "      <th></th>\n",
       "      <th>name</th>\n",
       "      <th>Subject</th>\n",
       "      <th>Periods</th>\n",
       "      <th>CLASS</th>\n",
       "      <th>SECTIONS</th>\n",
       "    </tr>\n",
       "  </thead>\n",
       "  <tbody>\n",
       "    <tr>\n",
       "      <th>0</th>\n",
       "      <td>Santha</td>\n",
       "      <td>DBMS</td>\n",
       "      <td>1</td>\n",
       "      <td>II</td>\n",
       "      <td>CSE_C</td>\n",
       "    </tr>\n",
       "    <tr>\n",
       "      <th>2</th>\n",
       "      <td>Ram</td>\n",
       "      <td>CNS</td>\n",
       "      <td>2</td>\n",
       "      <td>III</td>\n",
       "      <td>AI&amp;DS</td>\n",
       "    </tr>\n",
       "  </tbody>\n",
       "</table>\n",
       "</div>"
      ],
      "text/plain": [
       "     name Subject  Periods CLASS SECTIONS\n",
       "0  Santha    DBMS        1    II    CSE_C\n",
       "2     Ram     CNS        2   III    AI&DS"
      ]
     },
     "execution_count": 41,
     "metadata": {},
     "output_type": "execute_result"
    }
   ],
   "source": [
    "d.iloc[[i for i in range(0,3+1) if i % 2==0]]"
   ]
  },
  {
   "cell_type": "markdown",
   "id": "0b03a367",
   "metadata": {},
   "source": [
    "# Masking"
   ]
  },
  {
   "cell_type": "code",
   "execution_count": 14,
   "id": "2d622bf4",
   "metadata": {},
   "outputs": [],
   "source": [
    "DataFrame = {'Eno':[501,502,503,504,505,506,507,508,509],\n",
    "             'Ename':['Hima','Rani','Mahi','Dhoni','Lokesh','Chaitu','Madhuri','Vyshnavi','Zubair'],\n",
    "             'Job':['Clerk','Salesman','Develper','Analyst','Salesman','Clerk','clerk','Manager','Developer'],\n",
    "             'sal':[1000,2500,4000,5000,4500,3500,1500,6000,1500],\n",
    "             'dept': [20,30,10,20,30,10,10,20,30]\n",
    "            }"
   ]
  },
  {
   "cell_type": "code",
   "execution_count": 15,
   "id": "89862e89",
   "metadata": {},
   "outputs": [
    {
     "data": {
      "text/html": [
       "<div>\n",
       "<style scoped>\n",
       "    .dataframe tbody tr th:only-of-type {\n",
       "        vertical-align: middle;\n",
       "    }\n",
       "\n",
       "    .dataframe tbody tr th {\n",
       "        vertical-align: top;\n",
       "    }\n",
       "\n",
       "    .dataframe thead th {\n",
       "        text-align: right;\n",
       "    }\n",
       "</style>\n",
       "<table border=\"1\" class=\"dataframe\">\n",
       "  <thead>\n",
       "    <tr style=\"text-align: right;\">\n",
       "      <th></th>\n",
       "      <th>Eno</th>\n",
       "      <th>Ename</th>\n",
       "      <th>Job</th>\n",
       "      <th>sal</th>\n",
       "      <th>dept</th>\n",
       "    </tr>\n",
       "  </thead>\n",
       "  <tbody>\n",
       "    <tr>\n",
       "      <th>0</th>\n",
       "      <td>501</td>\n",
       "      <td>Hima</td>\n",
       "      <td>Clerk</td>\n",
       "      <td>1000</td>\n",
       "      <td>20</td>\n",
       "    </tr>\n",
       "    <tr>\n",
       "      <th>1</th>\n",
       "      <td>502</td>\n",
       "      <td>Rani</td>\n",
       "      <td>Salesman</td>\n",
       "      <td>2500</td>\n",
       "      <td>30</td>\n",
       "    </tr>\n",
       "    <tr>\n",
       "      <th>2</th>\n",
       "      <td>503</td>\n",
       "      <td>Mahi</td>\n",
       "      <td>Develper</td>\n",
       "      <td>4000</td>\n",
       "      <td>10</td>\n",
       "    </tr>\n",
       "    <tr>\n",
       "      <th>3</th>\n",
       "      <td>504</td>\n",
       "      <td>Dhoni</td>\n",
       "      <td>Analyst</td>\n",
       "      <td>5000</td>\n",
       "      <td>20</td>\n",
       "    </tr>\n",
       "    <tr>\n",
       "      <th>4</th>\n",
       "      <td>505</td>\n",
       "      <td>Lokesh</td>\n",
       "      <td>Salesman</td>\n",
       "      <td>4500</td>\n",
       "      <td>30</td>\n",
       "    </tr>\n",
       "    <tr>\n",
       "      <th>5</th>\n",
       "      <td>506</td>\n",
       "      <td>Chaitu</td>\n",
       "      <td>Clerk</td>\n",
       "      <td>3500</td>\n",
       "      <td>10</td>\n",
       "    </tr>\n",
       "    <tr>\n",
       "      <th>6</th>\n",
       "      <td>507</td>\n",
       "      <td>Madhuri</td>\n",
       "      <td>clerk</td>\n",
       "      <td>1500</td>\n",
       "      <td>10</td>\n",
       "    </tr>\n",
       "    <tr>\n",
       "      <th>7</th>\n",
       "      <td>508</td>\n",
       "      <td>Vyshnavi</td>\n",
       "      <td>Manager</td>\n",
       "      <td>6000</td>\n",
       "      <td>20</td>\n",
       "    </tr>\n",
       "    <tr>\n",
       "      <th>8</th>\n",
       "      <td>509</td>\n",
       "      <td>Zubair</td>\n",
       "      <td>Developer</td>\n",
       "      <td>1500</td>\n",
       "      <td>30</td>\n",
       "    </tr>\n",
       "  </tbody>\n",
       "</table>\n",
       "</div>"
      ],
      "text/plain": [
       "   Eno     Ename        Job   sal  dept\n",
       "0  501      Hima      Clerk  1000    20\n",
       "1  502      Rani   Salesman  2500    30\n",
       "2  503      Mahi   Develper  4000    10\n",
       "3  504     Dhoni    Analyst  5000    20\n",
       "4  505    Lokesh   Salesman  4500    30\n",
       "5  506    Chaitu      Clerk  3500    10\n",
       "6  507   Madhuri      clerk  1500    10\n",
       "7  508  Vyshnavi    Manager  6000    20\n",
       "8  509    Zubair  Developer  1500    30"
      ]
     },
     "execution_count": 15,
     "metadata": {},
     "output_type": "execute_result"
    }
   ],
   "source": [
    "frm = pd.DataFrame(DataFrame)\n",
    "frm"
   ]
  },
  {
   "cell_type": "code",
   "execution_count": 16,
   "id": "f626fffa",
   "metadata": {},
   "outputs": [
    {
     "data": {
      "text/html": [
       "<div>\n",
       "<style scoped>\n",
       "    .dataframe tbody tr th:only-of-type {\n",
       "        vertical-align: middle;\n",
       "    }\n",
       "\n",
       "    .dataframe tbody tr th {\n",
       "        vertical-align: top;\n",
       "    }\n",
       "\n",
       "    .dataframe thead th {\n",
       "        text-align: right;\n",
       "    }\n",
       "</style>\n",
       "<table border=\"1\" class=\"dataframe\">\n",
       "  <thead>\n",
       "    <tr style=\"text-align: right;\">\n",
       "      <th></th>\n",
       "      <th>Eno</th>\n",
       "      <th>Ename</th>\n",
       "      <th>Job</th>\n",
       "      <th>sal</th>\n",
       "      <th>dept</th>\n",
       "    </tr>\n",
       "  </thead>\n",
       "  <tbody>\n",
       "  </tbody>\n",
       "</table>\n",
       "</div>"
      ],
      "text/plain": [
       "Empty DataFrame\n",
       "Columns: [Eno, Ename, Job, sal, dept]\n",
       "Index: []"
      ]
     },
     "execution_count": 16,
     "metadata": {},
     "output_type": "execute_result"
    }
   ],
   "source": [
    "ms = frm['sal'].max()\n",
    "m = frm ['Job'] == 'Salesman'\n",
    "frm[ms & m]"
   ]
  },
  {
   "cell_type": "code",
   "execution_count": 17,
   "id": "cfa42063",
   "metadata": {},
   "outputs": [
    {
     "data": {
      "text/html": [
       "<div>\n",
       "<style scoped>\n",
       "    .dataframe tbody tr th:only-of-type {\n",
       "        vertical-align: middle;\n",
       "    }\n",
       "\n",
       "    .dataframe tbody tr th {\n",
       "        vertical-align: top;\n",
       "    }\n",
       "\n",
       "    .dataframe thead th {\n",
       "        text-align: right;\n",
       "    }\n",
       "</style>\n",
       "<table border=\"1\" class=\"dataframe\">\n",
       "  <thead>\n",
       "    <tr style=\"text-align: right;\">\n",
       "      <th></th>\n",
       "      <th>Eno</th>\n",
       "      <th>Ename</th>\n",
       "      <th>Job</th>\n",
       "      <th>sal</th>\n",
       "      <th>dept</th>\n",
       "    </tr>\n",
       "  </thead>\n",
       "  <tbody>\n",
       "    <tr>\n",
       "      <th>7</th>\n",
       "      <td>508</td>\n",
       "      <td>Vyshnavi</td>\n",
       "      <td>Manager</td>\n",
       "      <td>6000</td>\n",
       "      <td>20</td>\n",
       "    </tr>\n",
       "  </tbody>\n",
       "</table>\n",
       "</div>"
      ],
      "text/plain": [
       "   Eno     Ename      Job   sal  dept\n",
       "7  508  Vyshnavi  Manager  6000    20"
      ]
     },
     "execution_count": 17,
     "metadata": {},
     "output_type": "execute_result"
    }
   ],
   "source": [
    "# # Display all employees who are managers. \n",
    "# # Display all employees whose sal greater than or equal to 3500\n",
    "#Mask = frm['sal']>=3500\n",
    "#print(frm[Mask])\n",
    "# # # Display all employees whose job equal to clerk and salary lessthan or equal to 1500\n",
    "# mask = frm['Job']== 'Clerk'\n",
    "# mask1 = frm['sal'] <= 1500\n",
    "# frm[mask & mask1]\n",
    "mask2 = frm['Job']== 'Manager'\n",
    "frm[mask2]"
   ]
  },
  {
   "cell_type": "code",
   "execution_count": 18,
   "id": "003eb10c",
   "metadata": {},
   "outputs": [
    {
     "data": {
      "text/html": [
       "<div>\n",
       "<style scoped>\n",
       "    .dataframe tbody tr th:only-of-type {\n",
       "        vertical-align: middle;\n",
       "    }\n",
       "\n",
       "    .dataframe tbody tr th {\n",
       "        vertical-align: top;\n",
       "    }\n",
       "\n",
       "    .dataframe thead th {\n",
       "        text-align: right;\n",
       "    }\n",
       "</style>\n",
       "<table border=\"1\" class=\"dataframe\">\n",
       "  <thead>\n",
       "    <tr style=\"text-align: right;\">\n",
       "      <th></th>\n",
       "      <th>Eno</th>\n",
       "      <th>Ename</th>\n",
       "      <th>Job</th>\n",
       "      <th>sal</th>\n",
       "      <th>dept</th>\n",
       "    </tr>\n",
       "  </thead>\n",
       "  <tbody>\n",
       "    <tr>\n",
       "      <th>7</th>\n",
       "      <td>508</td>\n",
       "      <td>Vyshnavi</td>\n",
       "      <td>Manager</td>\n",
       "      <td>6000</td>\n",
       "      <td>20</td>\n",
       "    </tr>\n",
       "  </tbody>\n",
       "</table>\n",
       "</div>"
      ],
      "text/plain": [
       "   Eno     Ename      Job   sal  dept\n",
       "7  508  Vyshnavi  Manager  6000    20"
      ]
     },
     "execution_count": 18,
     "metadata": {},
     "output_type": "execute_result"
    }
   ],
   "source": [
    "\n",
    "\n",
    "# Display all employees who belongs to 20th department and job is manager.\n",
    "mas = frm['dept'] == 20\n",
    "mas1 = frm ['Job'] == 'Manager'\n",
    "frm[mas & mas1]"
   ]
  },
  {
   "cell_type": "code",
   "execution_count": 19,
   "id": "5d63e47f",
   "metadata": {},
   "outputs": [
    {
     "data": {
      "text/plain": [
       "9"
      ]
     },
     "execution_count": 19,
     "metadata": {},
     "output_type": "execute_result"
    }
   ],
   "source": [
    "\n",
    "# Display how many employees are present in the organization\n",
    "frm.shape[0]"
   ]
  },
  {
   "cell_type": "code",
   "execution_count": 20,
   "id": "e237b42f",
   "metadata": {
    "scrolled": true
   },
   "outputs": [
    {
     "data": {
      "text/plain": [
       "29500"
      ]
     },
     "execution_count": 20,
     "metadata": {},
     "output_type": "execute_result"
    }
   ],
   "source": [
    "\n",
    "# Display the total pay of organization\n",
    "m = frm ['sal'].sum()\n",
    "# s = frm[m].sum()\n",
    "m"
   ]
  },
  {
   "cell_type": "markdown",
   "id": "4fa2c019",
   "metadata": {},
   "source": [
    "# Exercie_C"
   ]
  },
  {
   "cell_type": "code",
   "execution_count": 21,
   "id": "3be921ca",
   "metadata": {},
   "outputs": [
    {
     "data": {
      "text/html": [
       "<div>\n",
       "<style scoped>\n",
       "    .dataframe tbody tr th:only-of-type {\n",
       "        vertical-align: middle;\n",
       "    }\n",
       "\n",
       "    .dataframe tbody tr th {\n",
       "        vertical-align: top;\n",
       "    }\n",
       "\n",
       "    .dataframe thead th {\n",
       "        text-align: right;\n",
       "    }\n",
       "</style>\n",
       "<table border=\"1\" class=\"dataframe\">\n",
       "  <thead>\n",
       "    <tr style=\"text-align: right;\">\n",
       "      <th></th>\n",
       "      <th>Eno</th>\n",
       "      <th>Ename</th>\n",
       "      <th>Job</th>\n",
       "      <th>sal</th>\n",
       "      <th>dept</th>\n",
       "    </tr>\n",
       "  </thead>\n",
       "  <tbody>\n",
       "    <tr>\n",
       "      <th>0</th>\n",
       "      <td>501</td>\n",
       "      <td>Hima</td>\n",
       "      <td>Clerk</td>\n",
       "      <td>1000</td>\n",
       "      <td>20</td>\n",
       "    </tr>\n",
       "    <tr>\n",
       "      <th>1</th>\n",
       "      <td>502</td>\n",
       "      <td>Rani</td>\n",
       "      <td>Salesman</td>\n",
       "      <td>2500</td>\n",
       "      <td>30</td>\n",
       "    </tr>\n",
       "    <tr>\n",
       "      <th>2</th>\n",
       "      <td>503</td>\n",
       "      <td>Mahi</td>\n",
       "      <td>Develper</td>\n",
       "      <td>4000</td>\n",
       "      <td>10</td>\n",
       "    </tr>\n",
       "    <tr>\n",
       "      <th>3</th>\n",
       "      <td>504</td>\n",
       "      <td>Dhoni</td>\n",
       "      <td>Analyst</td>\n",
       "      <td>5000</td>\n",
       "      <td>20</td>\n",
       "    </tr>\n",
       "    <tr>\n",
       "      <th>4</th>\n",
       "      <td>505</td>\n",
       "      <td>Lokesh</td>\n",
       "      <td>Salesman</td>\n",
       "      <td>4500</td>\n",
       "      <td>30</td>\n",
       "    </tr>\n",
       "    <tr>\n",
       "      <th>5</th>\n",
       "      <td>506</td>\n",
       "      <td>Chaitu</td>\n",
       "      <td>Clerk</td>\n",
       "      <td>3500</td>\n",
       "      <td>10</td>\n",
       "    </tr>\n",
       "    <tr>\n",
       "      <th>6</th>\n",
       "      <td>507</td>\n",
       "      <td>Madhuri</td>\n",
       "      <td>clerk</td>\n",
       "      <td>1500</td>\n",
       "      <td>10</td>\n",
       "    </tr>\n",
       "    <tr>\n",
       "      <th>7</th>\n",
       "      <td>508</td>\n",
       "      <td>Vyshnavi</td>\n",
       "      <td>Manager</td>\n",
       "      <td>6000</td>\n",
       "      <td>20</td>\n",
       "    </tr>\n",
       "    <tr>\n",
       "      <th>8</th>\n",
       "      <td>509</td>\n",
       "      <td>Zubair</td>\n",
       "      <td>Developer</td>\n",
       "      <td>1500</td>\n",
       "      <td>30</td>\n",
       "    </tr>\n",
       "  </tbody>\n",
       "</table>\n",
       "</div>"
      ],
      "text/plain": [
       "   Eno     Ename        Job   sal  dept\n",
       "0  501      Hima      Clerk  1000    20\n",
       "1  502      Rani   Salesman  2500    30\n",
       "2  503      Mahi   Develper  4000    10\n",
       "3  504     Dhoni    Analyst  5000    20\n",
       "4  505    Lokesh   Salesman  4500    30\n",
       "5  506    Chaitu      Clerk  3500    10\n",
       "6  507   Madhuri      clerk  1500    10\n",
       "7  508  Vyshnavi    Manager  6000    20\n",
       "8  509    Zubair  Developer  1500    30"
      ]
     },
     "execution_count": 21,
     "metadata": {},
     "output_type": "execute_result"
    }
   ],
   "source": [
    "frm"
   ]
  },
  {
   "cell_type": "code",
   "execution_count": 22,
   "id": "6e7c0453",
   "metadata": {},
   "outputs": [
    {
     "data": {
      "text/html": [
       "<div>\n",
       "<style scoped>\n",
       "    .dataframe tbody tr th:only-of-type {\n",
       "        vertical-align: middle;\n",
       "    }\n",
       "\n",
       "    .dataframe tbody tr th {\n",
       "        vertical-align: top;\n",
       "    }\n",
       "\n",
       "    .dataframe thead th {\n",
       "        text-align: right;\n",
       "    }\n",
       "</style>\n",
       "<table border=\"1\" class=\"dataframe\">\n",
       "  <thead>\n",
       "    <tr style=\"text-align: right;\">\n",
       "      <th></th>\n",
       "      <th>Eno</th>\n",
       "      <th>Ename</th>\n",
       "      <th>Job</th>\n",
       "      <th>sal</th>\n",
       "      <th>dept</th>\n",
       "    </tr>\n",
       "  </thead>\n",
       "  <tbody>\n",
       "    <tr>\n",
       "      <th>1</th>\n",
       "      <td>501</td>\n",
       "      <td>Hima</td>\n",
       "      <td>Clerk</td>\n",
       "      <td>1000</td>\n",
       "      <td>20</td>\n",
       "    </tr>\n",
       "    <tr>\n",
       "      <th>2</th>\n",
       "      <td>502</td>\n",
       "      <td>Rani</td>\n",
       "      <td>Salesman</td>\n",
       "      <td>2500</td>\n",
       "      <td>30</td>\n",
       "    </tr>\n",
       "    <tr>\n",
       "      <th>3</th>\n",
       "      <td>503</td>\n",
       "      <td>Mahi</td>\n",
       "      <td>Develper</td>\n",
       "      <td>4000</td>\n",
       "      <td>10</td>\n",
       "    </tr>\n",
       "    <tr>\n",
       "      <th>4</th>\n",
       "      <td>504</td>\n",
       "      <td>Dhoni</td>\n",
       "      <td>Analyst</td>\n",
       "      <td>5000</td>\n",
       "      <td>20</td>\n",
       "    </tr>\n",
       "    <tr>\n",
       "      <th>5</th>\n",
       "      <td>505</td>\n",
       "      <td>Lokesh</td>\n",
       "      <td>Salesman</td>\n",
       "      <td>4500</td>\n",
       "      <td>30</td>\n",
       "    </tr>\n",
       "    <tr>\n",
       "      <th>6</th>\n",
       "      <td>506</td>\n",
       "      <td>Chaitu</td>\n",
       "      <td>Clerk</td>\n",
       "      <td>3500</td>\n",
       "      <td>10</td>\n",
       "    </tr>\n",
       "    <tr>\n",
       "      <th>7</th>\n",
       "      <td>507</td>\n",
       "      <td>Madhuri</td>\n",
       "      <td>clerk</td>\n",
       "      <td>1500</td>\n",
       "      <td>10</td>\n",
       "    </tr>\n",
       "    <tr>\n",
       "      <th>8</th>\n",
       "      <td>508</td>\n",
       "      <td>Vyshnavi</td>\n",
       "      <td>Manager</td>\n",
       "      <td>6000</td>\n",
       "      <td>20</td>\n",
       "    </tr>\n",
       "    <tr>\n",
       "      <th>9</th>\n",
       "      <td>509</td>\n",
       "      <td>Zubair</td>\n",
       "      <td>Developer</td>\n",
       "      <td>1500</td>\n",
       "      <td>30</td>\n",
       "    </tr>\n",
       "  </tbody>\n",
       "</table>\n",
       "</div>"
      ],
      "text/plain": [
       "   Eno     Ename        Job   sal  dept\n",
       "1  501      Hima      Clerk  1000    20\n",
       "2  502      Rani   Salesman  2500    30\n",
       "3  503      Mahi   Develper  4000    10\n",
       "4  504     Dhoni    Analyst  5000    20\n",
       "5  505    Lokesh   Salesman  4500    30\n",
       "6  506    Chaitu      Clerk  3500    10\n",
       "7  507   Madhuri      clerk  1500    10\n",
       "8  508  Vyshnavi    Manager  6000    20\n",
       "9  509    Zubair  Developer  1500    30"
      ]
     },
     "execution_count": 22,
     "metadata": {},
     "output_type": "execute_result"
    }
   ],
   "source": [
    "l = ['a','b','c','e','f','g','h','i','j']\n",
    "f= [1.1,2.2,3.3,4.4,5.5,6.6,7.7,8.8,9.9]\n",
    "n = [1,2,3,4,5,6,7,8,9]\n",
    "data = pd.DataFrame(DataFrame, index = n)\n",
    "data"
   ]
  },
  {
   "cell_type": "code",
   "execution_count": 23,
   "id": "b5a7350a",
   "metadata": {},
   "outputs": [
    {
     "data": {
      "text/html": [
       "<div>\n",
       "<style scoped>\n",
       "    .dataframe tbody tr th:only-of-type {\n",
       "        vertical-align: middle;\n",
       "    }\n",
       "\n",
       "    .dataframe tbody tr th {\n",
       "        vertical-align: top;\n",
       "    }\n",
       "\n",
       "    .dataframe thead th {\n",
       "        text-align: right;\n",
       "    }\n",
       "</style>\n",
       "<table border=\"1\" class=\"dataframe\">\n",
       "  <thead>\n",
       "    <tr style=\"text-align: right;\">\n",
       "      <th></th>\n",
       "      <th>Eno</th>\n",
       "      <th>Ename</th>\n",
       "      <th>Job</th>\n",
       "      <th>sal</th>\n",
       "      <th>dept</th>\n",
       "      <th>count</th>\n",
       "    </tr>\n",
       "  </thead>\n",
       "  <tbody>\n",
       "    <tr>\n",
       "      <th>1</th>\n",
       "      <td>501</td>\n",
       "      <td>Hima</td>\n",
       "      <td>Clerk</td>\n",
       "      <td>1000</td>\n",
       "      <td>20</td>\n",
       "      <td>0</td>\n",
       "    </tr>\n",
       "    <tr>\n",
       "      <th>2</th>\n",
       "      <td>502</td>\n",
       "      <td>Rani</td>\n",
       "      <td>Salesman</td>\n",
       "      <td>2500</td>\n",
       "      <td>30</td>\n",
       "      <td>2</td>\n",
       "    </tr>\n",
       "    <tr>\n",
       "      <th>3</th>\n",
       "      <td>503</td>\n",
       "      <td>Mahi</td>\n",
       "      <td>Develper</td>\n",
       "      <td>4000</td>\n",
       "      <td>10</td>\n",
       "      <td>0</td>\n",
       "    </tr>\n",
       "    <tr>\n",
       "      <th>4</th>\n",
       "      <td>504</td>\n",
       "      <td>Dhoni</td>\n",
       "      <td>Analyst</td>\n",
       "      <td>5000</td>\n",
       "      <td>20</td>\n",
       "      <td>1</td>\n",
       "    </tr>\n",
       "    <tr>\n",
       "      <th>5</th>\n",
       "      <td>505</td>\n",
       "      <td>Lokesh</td>\n",
       "      <td>Salesman</td>\n",
       "      <td>4500</td>\n",
       "      <td>30</td>\n",
       "      <td>2</td>\n",
       "    </tr>\n",
       "    <tr>\n",
       "      <th>6</th>\n",
       "      <td>506</td>\n",
       "      <td>Chaitu</td>\n",
       "      <td>Clerk</td>\n",
       "      <td>3500</td>\n",
       "      <td>10</td>\n",
       "      <td>0</td>\n",
       "    </tr>\n",
       "    <tr>\n",
       "      <th>7</th>\n",
       "      <td>507</td>\n",
       "      <td>Madhuri</td>\n",
       "      <td>clerk</td>\n",
       "      <td>1500</td>\n",
       "      <td>10</td>\n",
       "      <td>0</td>\n",
       "    </tr>\n",
       "    <tr>\n",
       "      <th>8</th>\n",
       "      <td>508</td>\n",
       "      <td>Vyshnavi</td>\n",
       "      <td>Manager</td>\n",
       "      <td>6000</td>\n",
       "      <td>20</td>\n",
       "      <td>2</td>\n",
       "    </tr>\n",
       "    <tr>\n",
       "      <th>9</th>\n",
       "      <td>509</td>\n",
       "      <td>Zubair</td>\n",
       "      <td>Developer</td>\n",
       "      <td>1500</td>\n",
       "      <td>30</td>\n",
       "      <td>0</td>\n",
       "    </tr>\n",
       "  </tbody>\n",
       "</table>\n",
       "</div>"
      ],
      "text/plain": [
       "   Eno     Ename        Job   sal  dept  count\n",
       "1  501      Hima      Clerk  1000    20      0\n",
       "2  502      Rani   Salesman  2500    30      2\n",
       "3  503      Mahi   Develper  4000    10      0\n",
       "4  504     Dhoni    Analyst  5000    20      1\n",
       "5  505    Lokesh   Salesman  4500    30      2\n",
       "6  506    Chaitu      Clerk  3500    10      0\n",
       "7  507   Madhuri      clerk  1500    10      0\n",
       "8  508  Vyshnavi    Manager  6000    20      2\n",
       "9  509    Zubair  Developer  1500    30      0"
      ]
     },
     "execution_count": 23,
     "metadata": {},
     "output_type": "execute_result"
    }
   ],
   "source": [
    "# data['length'] = list(map(lambda x: len(x),data['Ename']))\n",
    "# data['length'].sum()\n",
    "data['count'] = list(map(lambda y: y.count('a'),data['Job']))\n",
    "data"
   ]
  },
  {
   "cell_type": "code",
   "execution_count": 24,
   "id": "7b448286",
   "metadata": {},
   "outputs": [
    {
     "name": "stdout",
     "output_type": "stream",
     "text": [
      "1        hIMA\n",
      "2        rANI\n",
      "3        mAHI\n",
      "4       dHONI\n",
      "5      lOKESH\n",
      "6      cHAITU\n",
      "7     mADHURI\n",
      "8    vYSHNAVI\n",
      "9      zUBAIR\n",
      "Name: Ename, dtype: object\n"
     ]
    }
   ],
   "source": [
    "d =data.Ename.str.upper()\n",
    "d\n",
    "a = data.Job.str.lower()\n",
    "a\n",
    "# data.Ename.str.rstrip()\n",
    "\n",
    "print(data.Ename.str.swapcase())"
   ]
  },
  {
   "cell_type": "code",
   "execution_count": 25,
   "id": "ea3a8b94",
   "metadata": {},
   "outputs": [
    {
     "data": {
      "text/plain": [
       "1        Hima\n",
       "2        Rani\n",
       "3        Mahi\n",
       "4       Dhoni\n",
       "5      Lokesh\n",
       "6      Chaitu\n",
       "7     Madhuri\n",
       "8    Vyshnavi\n",
       "9      Zubair\n",
       "Name: Ename, dtype: object"
      ]
     },
     "execution_count": 25,
     "metadata": {},
     "output_type": "execute_result"
    }
   ],
   "source": [
    "a=data['Ename']\n",
    "a"
   ]
  },
  {
   "cell_type": "code",
   "execution_count": 8,
   "id": "cf773563",
   "metadata": {},
   "outputs": [],
   "source": [
    "Data = {'sno':[701,702,703,704,705,706,707,708,709],\n",
    "       'sname':[\"R.Pranthi\",'N.Hasani', 'A.Hima','Ch.Mothit','T.Jaswanth','T.Arun','P.Prabhas','K.Jyotshna','K.Vyshnavi'],\n",
    "       'branch':['CSE','CS','MECH','CIVIL','EEE','CSE','AIML','ECE','IOT'],\n",
    "       'address':['Ashok Nagar','R.R.Pet','SanthiNagar','Powerpet','Clock Tower','Fire Station','GV Mall centre','New Ashok Nagar','Hanuman Nagar'],\n",
    "       }"
   ]
  },
  {
   "cell_type": "code",
   "execution_count": 9,
   "id": "c761ea96",
   "metadata": {},
   "outputs": [
    {
     "data": {
      "text/html": [
       "<div>\n",
       "<style scoped>\n",
       "    .dataframe tbody tr th:only-of-type {\n",
       "        vertical-align: middle;\n",
       "    }\n",
       "\n",
       "    .dataframe tbody tr th {\n",
       "        vertical-align: top;\n",
       "    }\n",
       "\n",
       "    .dataframe thead th {\n",
       "        text-align: right;\n",
       "    }\n",
       "</style>\n",
       "<table border=\"1\" class=\"dataframe\">\n",
       "  <thead>\n",
       "    <tr style=\"text-align: right;\">\n",
       "      <th></th>\n",
       "      <th>count</th>\n",
       "      <th>branch</th>\n",
       "    </tr>\n",
       "  </thead>\n",
       "  <tbody>\n",
       "    <tr>\n",
       "      <th>a</th>\n",
       "      <td>0</td>\n",
       "      <td>CSE</td>\n",
       "    </tr>\n",
       "    <tr>\n",
       "      <th>b</th>\n",
       "      <td>0</td>\n",
       "      <td>CS</td>\n",
       "    </tr>\n",
       "    <tr>\n",
       "      <th>c</th>\n",
       "      <td>0</td>\n",
       "      <td>MECH</td>\n",
       "    </tr>\n",
       "    <tr>\n",
       "      <th>d</th>\n",
       "      <td>0</td>\n",
       "      <td>CIVIL</td>\n",
       "    </tr>\n",
       "    <tr>\n",
       "      <th>e</th>\n",
       "      <td>0</td>\n",
       "      <td>EEE</td>\n",
       "    </tr>\n",
       "    <tr>\n",
       "      <th>f</th>\n",
       "      <td>0</td>\n",
       "      <td>CSE</td>\n",
       "    </tr>\n",
       "    <tr>\n",
       "      <th>g</th>\n",
       "      <td>1</td>\n",
       "      <td>AIML</td>\n",
       "    </tr>\n",
       "    <tr>\n",
       "      <th>h</th>\n",
       "      <td>0</td>\n",
       "      <td>ECE</td>\n",
       "    </tr>\n",
       "    <tr>\n",
       "      <th>i</th>\n",
       "      <td>0</td>\n",
       "      <td>IOT</td>\n",
       "    </tr>\n",
       "  </tbody>\n",
       "</table>\n",
       "</div>"
      ],
      "text/plain": [
       "   count branch\n",
       "a      0    CSE\n",
       "b      0     CS\n",
       "c      0   MECH\n",
       "d      0  CIVIL\n",
       "e      0    EEE\n",
       "f      0    CSE\n",
       "g      1   AIML\n",
       "h      0    ECE\n",
       "i      0    IOT"
      ]
     },
     "execution_count": 9,
     "metadata": {},
     "output_type": "execute_result"
    }
   ],
   "source": [
    "fra = pd.DataFrame(Data,index=['a','b','c','d','e','f','g','h','i'])\n",
    "fra['count'] = list(map(lambda y: y.count('A'),Data['branch']))\n",
    "fra[['count','branch']]"
   ]
  },
  {
   "cell_type": "code",
   "execution_count": 26,
   "id": "087951fb",
   "metadata": {},
   "outputs": [
    {
     "name": "stdout",
     "output_type": "stream",
     "text": [
      "a     r.pRANTHI\n",
      "b      n.hASANI\n",
      "c        a.hIMA\n",
      "d     cH.mOTHIT\n",
      "e    t.jASWANTH\n",
      "f        t.aRUN\n",
      "g     p.pRABHAS\n",
      "h    k.jYOTSHNA\n",
      "i    k.vYSHNAVI\n",
      "Name: sname, dtype: object\n"
     ]
    }
   ],
   "source": [
    "lower = fra.sname.str.lower()\n",
    "lower\n",
    "print(fra.sname.str.swapcase())"
   ]
  },
  {
   "cell_type": "code",
   "execution_count": 27,
   "id": "aea0d6a7",
   "metadata": {},
   "outputs": [
    {
     "name": "stdout",
     "output_type": "stream",
     "text": [
      "a      CSE\n",
      "b       CS\n",
      "c     MECH\n",
      "d    CIVIL\n",
      "e      EEE\n",
      "f      CSE\n",
      "g     AIML\n",
      "h      ECE\n",
      "i      IOT\n",
      "Name: branch, dtype: object   \n",
      " a    3\n",
      "b    2\n",
      "c    4\n",
      "d    5\n",
      "e    3\n",
      "f    3\n",
      "g    4\n",
      "h    3\n",
      "i    3\n",
      "Name: length, dtype: int64\n"
     ]
    }
   ],
   "source": [
    "fra['length'] = list(map(lambda x: len(x),fra['branch']))\n",
    "b = fra.branch\n",
    "l = fra.length\n",
    "print(b,' ',\"\\n\",l)"
   ]
  },
  {
   "cell_type": "code",
   "execution_count": 28,
   "id": "5dfe7544",
   "metadata": {},
   "outputs": [
    {
     "data": {
      "text/html": [
       "<div>\n",
       "<style scoped>\n",
       "    .dataframe tbody tr th:only-of-type {\n",
       "        vertical-align: middle;\n",
       "    }\n",
       "\n",
       "    .dataframe tbody tr th {\n",
       "        vertical-align: top;\n",
       "    }\n",
       "\n",
       "    .dataframe thead th {\n",
       "        text-align: right;\n",
       "    }\n",
       "</style>\n",
       "<table border=\"1\" class=\"dataframe\">\n",
       "  <thead>\n",
       "    <tr style=\"text-align: right;\">\n",
       "      <th></th>\n",
       "      <th>sno</th>\n",
       "      <th>sname</th>\n",
       "      <th>branch</th>\n",
       "      <th>address</th>\n",
       "      <th>length</th>\n",
       "    </tr>\n",
       "  </thead>\n",
       "  <tbody>\n",
       "    <tr>\n",
       "      <th>a</th>\n",
       "      <td>701</td>\n",
       "      <td>R.Pranthi</td>\n",
       "      <td>CSE</td>\n",
       "      <td>Ashok Nagar</td>\n",
       "      <td>3</td>\n",
       "    </tr>\n",
       "    <tr>\n",
       "      <th>b</th>\n",
       "      <td>702</td>\n",
       "      <td>N.Hasani</td>\n",
       "      <td>CS</td>\n",
       "      <td>R.R.Pet</td>\n",
       "      <td>2</td>\n",
       "    </tr>\n",
       "    <tr>\n",
       "      <th>c</th>\n",
       "      <td>703</td>\n",
       "      <td>A.Hima</td>\n",
       "      <td>MECH</td>\n",
       "      <td>SanthiNagar</td>\n",
       "      <td>4</td>\n",
       "    </tr>\n",
       "    <tr>\n",
       "      <th>d</th>\n",
       "      <td>704</td>\n",
       "      <td>Ch.Mothit</td>\n",
       "      <td>CIVIL</td>\n",
       "      <td>Powerpet</td>\n",
       "      <td>5</td>\n",
       "    </tr>\n",
       "    <tr>\n",
       "      <th>e</th>\n",
       "      <td>705</td>\n",
       "      <td>T.Jaswanth</td>\n",
       "      <td>EEE</td>\n",
       "      <td>Clock Tower</td>\n",
       "      <td>3</td>\n",
       "    </tr>\n",
       "    <tr>\n",
       "      <th>f</th>\n",
       "      <td>706</td>\n",
       "      <td>T.Arun</td>\n",
       "      <td>CSE</td>\n",
       "      <td>Fire Station</td>\n",
       "      <td>3</td>\n",
       "    </tr>\n",
       "    <tr>\n",
       "      <th>g</th>\n",
       "      <td>707</td>\n",
       "      <td>P.Prabhas</td>\n",
       "      <td>AIML</td>\n",
       "      <td>GV Mall centre</td>\n",
       "      <td>4</td>\n",
       "    </tr>\n",
       "    <tr>\n",
       "      <th>h</th>\n",
       "      <td>708</td>\n",
       "      <td>K.Jyotshna</td>\n",
       "      <td>ECE</td>\n",
       "      <td>New Ashok Nagar</td>\n",
       "      <td>3</td>\n",
       "    </tr>\n",
       "    <tr>\n",
       "      <th>i</th>\n",
       "      <td>709</td>\n",
       "      <td>K.Vyshnavi</td>\n",
       "      <td>IOT</td>\n",
       "      <td>Hanuman Nagar</td>\n",
       "      <td>3</td>\n",
       "    </tr>\n",
       "  </tbody>\n",
       "</table>\n",
       "</div>"
      ],
      "text/plain": [
       "   sno       sname branch          address  length\n",
       "a  701   R.Pranthi    CSE      Ashok Nagar       3\n",
       "b  702    N.Hasani     CS          R.R.Pet       2\n",
       "c  703      A.Hima   MECH      SanthiNagar       4\n",
       "d  704   Ch.Mothit  CIVIL         Powerpet       5\n",
       "e  705  T.Jaswanth    EEE      Clock Tower       3\n",
       "f  706      T.Arun    CSE     Fire Station       3\n",
       "g  707   P.Prabhas   AIML   GV Mall centre       4\n",
       "h  708  K.Jyotshna    ECE  New Ashok Nagar       3\n",
       "i  709  K.Vyshnavi    IOT    Hanuman Nagar       3"
      ]
     },
     "execution_count": 28,
     "metadata": {},
     "output_type": "execute_result"
    }
   ],
   "source": [
    "fra.address.str.strip\n",
    "fra"
   ]
  },
  {
   "cell_type": "code",
   "execution_count": 11,
   "id": "33978a11",
   "metadata": {
    "scrolled": false
   },
   "outputs": [
    {
     "ename": "ValueError",
     "evalue": "pie requires either y column or 'subplots=True'",
     "output_type": "error",
     "traceback": [
      "\u001b[1;31m---------------\u001b[0m",
      "\u001b[1;31mValueError\u001b[0mTraceback (most recent call last)",
      "Cell \u001b[1;32mIn[11], line 1\u001b[0m\n\u001b[1;32m----> 1\u001b[0m fra\u001b[38;5;241m.\u001b[39mplot(kind\u001b[38;5;241m=\u001b[39m\u001b[38;5;124m'\u001b[39m\u001b[38;5;124mpie\u001b[39m\u001b[38;5;124m'\u001b[39m)\n",
      "File \u001b[1;32m~\\anaconda3\\Lib\\site-packages\\pandas\\plotting\\_core.py:926\u001b[0m, in \u001b[0;36mPlotAccessor.__call__\u001b[1;34m(self, *args, **kwargs)\u001b[0m\n\u001b[0;32m    924\u001b[0m \u001b[38;5;28;01mif\u001b[39;00m \u001b[38;5;28misinstance\u001b[39m(data, ABCDataFrame):\n\u001b[0;32m    925\u001b[0m     \u001b[38;5;28;01mif\u001b[39;00m y \u001b[38;5;129;01mis\u001b[39;00m \u001b[38;5;28;01mNone\u001b[39;00m \u001b[38;5;129;01mand\u001b[39;00m kwargs\u001b[38;5;241m.\u001b[39mget(\u001b[38;5;124m\"\u001b[39m\u001b[38;5;124msubplots\u001b[39m\u001b[38;5;124m\"\u001b[39m) \u001b[38;5;129;01mis\u001b[39;00m \u001b[38;5;28;01mFalse\u001b[39;00m:\n\u001b[1;32m--> 926\u001b[0m         \u001b[38;5;28;01mraise\u001b[39;00m \u001b[38;5;167;01mValueError\u001b[39;00m(\n\u001b[0;32m    927\u001b[0m             \u001b[38;5;124mf\u001b[39m\u001b[38;5;124m\"\u001b[39m\u001b[38;5;132;01m{\u001b[39;00mkind\u001b[38;5;132;01m}\u001b[39;00m\u001b[38;5;124m requires either y column or \u001b[39m\u001b[38;5;124m'\u001b[39m\u001b[38;5;124msubplots=True\u001b[39m\u001b[38;5;124m'\u001b[39m\u001b[38;5;124m\"\u001b[39m\n\u001b[0;32m    928\u001b[0m         )\n\u001b[0;32m    929\u001b[0m     \u001b[38;5;28;01mif\u001b[39;00m y \u001b[38;5;129;01mis\u001b[39;00m \u001b[38;5;129;01mnot\u001b[39;00m \u001b[38;5;28;01mNone\u001b[39;00m:\n\u001b[0;32m    930\u001b[0m         \u001b[38;5;28;01mif\u001b[39;00m is_integer(y) \u001b[38;5;129;01mand\u001b[39;00m \u001b[38;5;129;01mnot\u001b[39;00m data\u001b[38;5;241m.\u001b[39mcolumns\u001b[38;5;241m.\u001b[39m_holds_integer():\n",
      "\u001b[1;31mValueError\u001b[0m: pie requires either y column or 'subplots=True'"
     ]
    }
   ],
   "source": [
    "# fra.plot(kind='pie')"
   ]
  },
  {
   "cell_type": "code",
   "execution_count": 6,
   "id": "8f53100a",
   "metadata": {},
   "outputs": [
    {
     "data": {
      "text/html": [
       "<div>\n",
       "<style scoped>\n",
       "    .dataframe tbody tr th:only-of-type {\n",
       "        vertical-align: middle;\n",
       "    }\n",
       "\n",
       "    .dataframe tbody tr th {\n",
       "        vertical-align: top;\n",
       "    }\n",
       "\n",
       "    .dataframe thead th {\n",
       "        text-align: right;\n",
       "    }\n",
       "</style>\n",
       "<table border=\"1\" class=\"dataframe\">\n",
       "  <thead>\n",
       "    <tr style=\"text-align: right;\">\n",
       "      <th></th>\n",
       "      <th>name</th>\n",
       "      <th>branch</th>\n",
       "    </tr>\n",
       "  </thead>\n",
       "  <tbody>\n",
       "    <tr>\n",
       "      <th>0</th>\n",
       "      <td>Zoro</td>\n",
       "      <td>CSE</td>\n",
       "    </tr>\n",
       "    <tr>\n",
       "      <th>1</th>\n",
       "      <td>Luffy</td>\n",
       "      <td>MECH</td>\n",
       "    </tr>\n",
       "    <tr>\n",
       "      <th>2</th>\n",
       "      <td>Nami</td>\n",
       "      <td>MBA</td>\n",
       "    </tr>\n",
       "  </tbody>\n",
       "</table>\n",
       "</div>"
      ],
      "text/plain": [
       "    name branch\n",
       "0   Zoro    CSE\n",
       "1  Luffy   MECH\n",
       "2   Nami    MBA"
      ]
     },
     "execution_count": 6,
     "metadata": {},
     "output_type": "execute_result"
    }
   ],
   "source": [
    "''' Joining two dataframes'''\n",
    "d = {'name':['Zoro','Luffy','Nami'],\n",
    "    'branch':['CSE','MECH','MBA']}\n",
    "df = pd.DataFrame(d)\n",
    "df"
   ]
  },
  {
   "cell_type": "code",
   "execution_count": null,
   "id": "e299fa0f",
   "metadata": {},
   "outputs": [],
   "source": []
  },
  {
   "cell_type": "code",
   "execution_count": 3,
   "id": "607c61d3",
   "metadata": {},
   "outputs": [
    {
     "data": {
      "text/html": [
       "<div>\n",
       "<style scoped>\n",
       "    .dataframe tbody tr th:only-of-type {\n",
       "        vertical-align: middle;\n",
       "    }\n",
       "\n",
       "    .dataframe tbody tr th {\n",
       "        vertical-align: top;\n",
       "    }\n",
       "\n",
       "    .dataframe thead th {\n",
       "        text-align: right;\n",
       "    }\n",
       "</style>\n",
       "<table border=\"1\" class=\"dataframe\">\n",
       "  <thead>\n",
       "    <tr style=\"text-align: right;\">\n",
       "      <th></th>\n",
       "      <th>name</th>\n",
       "      <th>branch</th>\n",
       "    </tr>\n",
       "  </thead>\n",
       "  <tbody>\n",
       "    <tr>\n",
       "      <th>0</th>\n",
       "      <td>Dragon</td>\n",
       "      <td>CIVIL</td>\n",
       "    </tr>\n",
       "    <tr>\n",
       "      <th>1</th>\n",
       "      <td>New Gate</td>\n",
       "      <td>CS</td>\n",
       "    </tr>\n",
       "    <tr>\n",
       "      <th>2</th>\n",
       "      <td>Roger</td>\n",
       "      <td>MBA</td>\n",
       "    </tr>\n",
       "  </tbody>\n",
       "</table>\n",
       "</div>"
      ],
      "text/plain": [
       "       name branch\n",
       "0    Dragon  CIVIL\n",
       "1  New Gate     CS\n",
       "2     Roger    MBA"
      ]
     },
     "metadata": {},
     "output_type": "display_data"
    }
   ],
   "source": [
    "d2 = {'name':['Dragon','New Gate','Roger'],\n",
    "    'branch':['CIVIL','CS','MBA']}\n",
    "df1 = pd.DataFrame(d2)\n",
    "display(df1)"
   ]
  },
  {
   "cell_type": "code",
   "execution_count": 14,
   "id": "2168b5de",
   "metadata": {},
   "outputs": [
    {
     "ename": "TypeError",
     "evalue": "concat() got an unexpected keyword argument 'index'",
     "output_type": "error",
     "traceback": [
      "\u001b[1;31m---------------------\u001b[0m",
      "\u001b[1;31mTypeError\u001b[0mTraceback (most recent call last)",
      "Cell \u001b[1;32mIn[14], line 4\u001b[0m\n\u001b[0;32m      2\u001b[0m d \u001b[38;5;241m=\u001b[39m {\u001b[38;5;124m'\u001b[39m\u001b[38;5;124msection\u001b[39m\u001b[38;5;124m'\u001b[39m:[\u001b[38;5;124m'\u001b[39m\u001b[38;5;124ma\u001b[39m\u001b[38;5;124m'\u001b[39m,\u001b[38;5;124m'\u001b[39m\u001b[38;5;124mb\u001b[39m\u001b[38;5;124m'\u001b[39m,\u001b[38;5;124m'\u001b[39m\u001b[38;5;124mc\u001b[39m\u001b[38;5;124m'\u001b[39m]}\n\u001b[0;32m      3\u001b[0m df3 \u001b[38;5;241m=\u001b[39m pd\u001b[38;5;241m.\u001b[39mDataFrame(d)\n\u001b[1;32m----> 4\u001b[0m pd\u001b[38;5;241m.\u001b[39mconcat([df1,df3],index \u001b[38;5;241m=\u001b[39m \u001b[38;5;28;01mFalse\u001b[39;00m)\n",
      "\u001b[1;31mTypeError\u001b[0m: concat() got an unexpected keyword argument 'index'"
     ]
    }
   ],
   "source": [
    "import numpy as np\n",
    "d = {'section':['a','b','c']}\n",
    "df3 = pd.DataFrame(d)\n",
    "pd.concat([df1,df3],index = False)\n"
   ]
  },
  {
   "cell_type": "code",
   "execution_count": 7,
   "id": "60e47368",
   "metadata": {},
   "outputs": [
    {
     "data": {
      "text/html": [
       "<div>\n",
       "<style scoped>\n",
       "    .dataframe tbody tr th:only-of-type {\n",
       "        vertical-align: middle;\n",
       "    }\n",
       "\n",
       "    .dataframe tbody tr th {\n",
       "        vertical-align: top;\n",
       "    }\n",
       "\n",
       "    .dataframe thead th {\n",
       "        text-align: right;\n",
       "    }\n",
       "</style>\n",
       "<table border=\"1\" class=\"dataframe\">\n",
       "  <thead>\n",
       "    <tr style=\"text-align: right;\">\n",
       "      <th></th>\n",
       "      <th>name</th>\n",
       "      <th>branch</th>\n",
       "    </tr>\n",
       "  </thead>\n",
       "  <tbody>\n",
       "    <tr>\n",
       "      <th>0</th>\n",
       "      <td>Zoro</td>\n",
       "      <td>CSE</td>\n",
       "    </tr>\n",
       "    <tr>\n",
       "      <th>1</th>\n",
       "      <td>Luffy</td>\n",
       "      <td>MECH</td>\n",
       "    </tr>\n",
       "    <tr>\n",
       "      <th>2</th>\n",
       "      <td>Nami</td>\n",
       "      <td>MBA</td>\n",
       "    </tr>\n",
       "    <tr>\n",
       "      <th>0</th>\n",
       "      <td>Dragon</td>\n",
       "      <td>CIVIL</td>\n",
       "    </tr>\n",
       "    <tr>\n",
       "      <th>1</th>\n",
       "      <td>New Gate</td>\n",
       "      <td>CS</td>\n",
       "    </tr>\n",
       "    <tr>\n",
       "      <th>2</th>\n",
       "      <td>Roger</td>\n",
       "      <td>MBA</td>\n",
       "    </tr>\n",
       "  </tbody>\n",
       "</table>\n",
       "</div>"
      ],
      "text/plain": [
       "       name branch\n",
       "0      Zoro    CSE\n",
       "1     Luffy   MECH\n",
       "2      Nami    MBA\n",
       "0    Dragon  CIVIL\n",
       "1  New Gate     CS\n",
       "2     Roger    MBA"
      ]
     },
     "execution_count": 7,
     "metadata": {},
     "output_type": "execute_result"
    }
   ],
   "source": [
    "c = pd.concat([df,df1])\n",
    "c"
   ]
  },
  {
   "cell_type": "code",
   "execution_count": 28,
   "id": "80c01d84",
   "metadata": {},
   "outputs": [
    {
     "data": {
      "text/html": [
       "<div>\n",
       "<style scoped>\n",
       "    .dataframe tbody tr th:only-of-type {\n",
       "        vertical-align: middle;\n",
       "    }\n",
       "\n",
       "    .dataframe tbody tr th {\n",
       "        vertical-align: top;\n",
       "    }\n",
       "\n",
       "    .dataframe thead th {\n",
       "        text-align: right;\n",
       "    }\n",
       "</style>\n",
       "<table border=\"1\" class=\"dataframe\">\n",
       "  <thead>\n",
       "    <tr style=\"text-align: right;\">\n",
       "      <th></th>\n",
       "      <th>name</th>\n",
       "      <th>branch_x</th>\n",
       "      <th>branch_y</th>\n",
       "    </tr>\n",
       "  </thead>\n",
       "  <tbody>\n",
       "    <tr>\n",
       "      <th>0</th>\n",
       "      <td>Zoro</td>\n",
       "      <td>CSE</td>\n",
       "      <td>NaN</td>\n",
       "    </tr>\n",
       "    <tr>\n",
       "      <th>1</th>\n",
       "      <td>Luffy</td>\n",
       "      <td>MECH</td>\n",
       "      <td>NaN</td>\n",
       "    </tr>\n",
       "    <tr>\n",
       "      <th>2</th>\n",
       "      <td>Nami</td>\n",
       "      <td>MBA</td>\n",
       "      <td>NaN</td>\n",
       "    </tr>\n",
       "    <tr>\n",
       "      <th>3</th>\n",
       "      <td>Dragon</td>\n",
       "      <td>NaN</td>\n",
       "      <td>CIVIL</td>\n",
       "    </tr>\n",
       "    <tr>\n",
       "      <th>4</th>\n",
       "      <td>New Gate</td>\n",
       "      <td>NaN</td>\n",
       "      <td>CS</td>\n",
       "    </tr>\n",
       "    <tr>\n",
       "      <th>5</th>\n",
       "      <td>Roger</td>\n",
       "      <td>NaN</td>\n",
       "      <td>MBA</td>\n",
       "    </tr>\n",
       "  </tbody>\n",
       "</table>\n",
       "</div>"
      ],
      "text/plain": [
       "       name branch_x branch_y\n",
       "0      Zoro      CSE      NaN\n",
       "1     Luffy     MECH      NaN\n",
       "2      Nami      MBA      NaN\n",
       "3    Dragon      NaN    CIVIL\n",
       "4  New Gate      NaN       CS\n",
       "5     Roger      NaN      MBA"
      ]
     },
     "execution_count": 28,
     "metadata": {},
     "output_type": "execute_result"
    }
   ],
   "source": [
    "m1 =pd.merge(df,df1,on='name', how= 'outer') \n",
    "# m =pd.merge(df,df1,on='sname', how= 'outer')\n",
    "m1"
   ]
  },
  {
   "cell_type": "code",
   "execution_count": 32,
   "id": "c636ced7",
   "metadata": {
    "scrolled": true
   },
   "outputs": [
    {
     "name": "stdout",
     "output_type": "stream",
     "text": [
      "2021-07-23\n"
     ]
    }
   ],
   "source": [
    "from datetime import datetime as d\n",
    "print(d(2021,7,23).date())"
   ]
  },
  {
   "cell_type": "code",
   "execution_count": 29,
   "id": "be0adb72",
   "metadata": {},
   "outputs": [
    {
     "name": "stdout",
     "output_type": "stream",
     "text": [
      "<pandas.core.groupby.generic.DataFrameGroupBy object at 0x0000029154A6AD10>\n",
      "\n",
      "Group:\n",
      "('s001',)\n",
      "  sid school             name date_Of_Birth  age  height  weight  address\n",
      "0  s1   s001  A,lberto Franco    15/05/2002   12     173      35  street1\n",
      "3  s4   s001     Eesha Hinton    25/09/1998   13     167      30  street1\n",
      "\n",
      "Group:\n",
      "('s002',)\n",
      "  sid school          name date_Of_Birth  age  height  weight  address\n",
      "1  s2   s002  Gino Mcneill    17/05/2002   12     192      32  street2\n",
      "4  s5   s002  Gino Mcneill    11/05/2002   14     151      31  street2\n",
      "\n",
      "Group:\n",
      "('s003',)\n",
      "  sid school         name date_Of_Birth  age  height  weight  address\n",
      "2  s3   s003  Ryan Parkes    16/02/1999   13     186      33  street3\n",
      "\n",
      "Group:\n",
      "('s004',)\n",
      "  sid school          name date_Of_Birth  age  height  weight  address\n",
      "5  s6   s004  David Parkes    11/05/2002   12     159      32  street4\n",
      "<class 'pandas.core.groupby.generic.DataFrameGroupBy'>\n"
     ]
    }
   ],
   "source": [
    "## Exercise-G\n",
    "pd.set_option('display.max_rows', None)\n",
    "pd.set_option('display.max_columns', None)\n",
    "ds = {'sid':['s1','s2','s3','s4','s5','s6'],\n",
    "     'school':['s001','s002','s003','s001','s002','s004'],\n",
    "     'name': ['Alberto Franco','Gino Mcneill','Ryan Parkes','Eesha Hinton','Gino Mcneill','David Parkes'],\n",
    "     'date_Of_Birth':['15/05/2002','17/05/2002','16/02/1999','25/09/1998','11/05/2002','11/05/2002'],\n",
    "      'age':[12,12,13,13,14,12],\n",
    "      'height':[173,192,186,167,151,159],\n",
    "      'weight':[35,32,33,30,31,32],\n",
    "      'address':['street1','street2','street3','street1','street2','street4']\n",
    "     }\n",
    "dataset = pd.DataFrame(ds)\n",
    "dataset\n",
    "print(dataset.groupby(['school']))\n",
    "for name,group in result:\n",
    "    print(\"\\nGroup:\")\n",
    "    print(name)\n",
    "    print(group)\n",
    "print(type(dataset.groupby(['school'])))\n",
    "\n",
    "\n",
    "\n",
    "\n",
    "\n",
    "\n",
    "\n",
    "\n"
   ]
  },
  {
   "cell_type": "code",
   "execution_count": null,
   "id": "3b91babf",
   "metadata": {},
   "outputs": [],
   "source": []
  }
 ],
 "metadata": {
  "kernelspec": {
   "display_name": "Python 3 (ipykernel)",
   "language": "python",
   "name": "python3"
  },
  "language_info": {
   "codemirror_mode": {
    "name": "ipython",
    "version": 3
   },
   "file_extension": ".py",
   "mimetype": "text/x-python",
   "name": "python",
   "nbconvert_exporter": "python",
   "pygments_lexer": "ipython3",
   "version": "3.11.5"
  }
 },
 "nbformat": 4,
 "nbformat_minor": 5
}

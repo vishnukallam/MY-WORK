1.create, alter, drop
2.any, all, in, not in, exist ,not exist
3.aggrrate functions
4.conversions-(strings function, number, date)
5.PL/SQL programs(tcl commit rollback save)
6.Nested If (leap year)
7.FRO LOOP, WHILE LOOP(EXAMPLE PROGRAMS) 
8.Procedure.
9.functions
10.cursor.
11. Triggers. 
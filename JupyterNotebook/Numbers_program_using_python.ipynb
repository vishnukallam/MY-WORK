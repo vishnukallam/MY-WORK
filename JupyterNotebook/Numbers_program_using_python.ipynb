{
 "cells": [
  {
   "cell_type": "markdown",
   "id": "d3e73584",
   "metadata": {},
   "source": [
    "# STRONG NUMBER"
   ]
  },
  {
   "cell_type": "code",
   "execution_count": 5,
   "id": "460c3710",
   "metadata": {},
   "outputs": [
    {
     "name": "stdout",
     "output_type": "stream",
     "text": [
      "enter a number123\n",
      "9\n",
      "the given number 123 is not a strong number.\n"
     ]
    }
   ],
   "source": [
    "import math as m\n",
    "'''\n",
    "If a sum of factorial of individual digits is \n",
    "equal to the given number is called strong number\n",
    "example:- n = 145\n",
    "-> 1!+4!+5! == 145\n",
    "'''\n",
    "def strong(n):\n",
    "    temp = n\n",
    "    s= 0\n",
    "    while n!=0:\n",
    "        rem = n%10\n",
    "        s += m.factorial(rem)\n",
    "        n//=10\n",
    "    print(s)\n",
    "    if temp == s:\n",
    "        print(f\"the given number {temp} is a strong number.\")\n",
    "    else:\n",
    "        print(f\"the given number {temp} is not a strong number.\")\n",
    "x= int(input(\"enter a number\"))\n",
    "strong(x)\n",
    "#----------------------------------OR------------------------------------\n",
    "'''\n",
    "def strong(n):\n",
    "    temp = n\n",
    "    s=0\n",
    "    fact=1\n",
    "    while n!=0:\n",
    "        rem = n%10\n",
    "        for i in range(1,rem+1):\n",
    "            fact = fact * i\n",
    "        s+=fact\n",
    "        n//=10\n",
    "    return s\n",
    "    print(f\"the given {temp} is \") if temp == s else print(f\"the given {temp} is not a strong number\")\n",
    "x = int(input(\"enter a number to check whether the given number is strong or not:\"))\n",
    "print(strong(x))\n",
    "'''"
   ]
  },
  {
   "cell_type": "markdown",
   "id": "9dcef46b",
   "metadata": {},
   "source": [
    "# SPY NUMBER "
   ]
  },
  {
   "cell_type": "code",
   "execution_count": 10,
   "id": "dc8ab600",
   "metadata": {},
   "outputs": [
    {
     "name": "stdout",
     "output_type": "stream",
     "text": [
      "enter a number :111\n",
      "3\n",
      "1\n",
      "the given number 111 is not a spy number \n"
     ]
    }
   ],
   "source": [
    "'''\n",
    "Sum of individual digits of a given number and \n",
    "Product of individual digits of a given number is equal \n",
    "then the number is SPY Number.\n",
    "Example:-\n",
    "n = 132\n",
    "1+2+3 = 1*2*3\n",
    "  6   =   6\n",
    "'''\n",
    "def spy(n):\n",
    "    temp=n\n",
    "    s=0\n",
    "    p=1\n",
    "    while n!=0:\n",
    "        rem = n % 10\n",
    "        s+=rem\n",
    "        p*=rem\n",
    "        n//=10\n",
    "    print(s)\n",
    "    print(p)\n",
    "    print(f\"the given number {temp} is a spy number \")if s == p else print(f\"the given number {temp} is not a spy number \")\n",
    "x= int(input(\"enter a number :\"))\n",
    "spy(x)"
   ]
  },
  {
   "cell_type": "markdown",
   "id": "6a0449d4",
   "metadata": {},
   "source": [
    "# NEON NUMBER"
   ]
  },
  {
   "cell_type": "code",
   "execution_count": 2,
   "id": "07fabca3",
   "metadata": {},
   "outputs": [
    {
     "name": "stdout",
     "output_type": "stream",
     "text": [
      "Enter a number: 6\n",
      "9\n",
      "The given 6 is not a neon number\n"
     ]
    }
   ],
   "source": [
    "'''\n",
    "The square of a given number \n",
    "sum of individual digits of square is equal to given number \n",
    "then it is called as NEON number\n",
    "Example:- 9**2=81 => 8+1=9\n",
    "            9     =      9\n",
    "'''\n",
    "def neon(n) :\n",
    "    temp = n ** 2\n",
    "    s=0\n",
    "    while temp != 0 :\n",
    "        rem = temp % 10\n",
    "        s+=rem\n",
    "        temp//=10\n",
    "    print(s)\n",
    "    print(f\"The given {n} is a neon number\") if n==s else print(f\"The given {n} is not a neon number\")\n",
    "x = int(input('Enter a number: '))\n",
    "neon(x)\n",
    "        \n"
   ]
  },
  {
   "cell_type": "markdown",
   "id": "7cdf997f",
   "metadata": {},
   "source": [
    "# PRONIC NUMBER"
   ]
  },
  {
   "cell_type": "code",
   "execution_count": 28,
   "id": "1283d03c",
   "metadata": {},
   "outputs": [
    {
     "name": "stdout",
     "output_type": "stream",
     "text": [
      "Enter a number:13\n",
      "13 is not a pronic number\n"
     ]
    }
   ],
   "source": [
    "''' \n",
    "Product two consecutive number (paka paka na vacha numbers oka product)\n",
    "is equal to the given number.\n",
    "Example:- 6 = 3*2 or 2*3 (here 3 and 2 atr consecutive numbers)\n",
    "'''\n",
    "def pronic(n):\n",
    "    s=0\n",
    "    for i in range(1,n+1):\n",
    "        if i*(i+1) == n:\n",
    "            s=1\n",
    "            break\n",
    "    print(f\"{n} is a pronic number\") if s==1 else print(f\"{n} is not a pronic number\")\n",
    "x= int(input(\"Enter a number:\"))\n",
    "pronic(x)\n"
   ]
  },
  {
   "cell_type": "markdown",
   "id": "41cfbd3f",
   "metadata": {},
   "source": [
    "# BUZZ NUMBER"
   ]
  },
  {
   "cell_type": "code",
   "execution_count": null,
   "id": "cfc05835",
   "metadata": {},
   "outputs": [],
   "source": [
    "'''\n",
    "The number should ends with 7 or divisible 7 then the number is called as buzz number\n",
    "Example:- 17 if 17  %10=7 or it is /7 ==0\n",
    "'''\n",
    "def buzz(n):\n",
    "     if n%10==7 or n%7==0:\n",
    "            return f\"{n} is a buzz number\"\n",
    "     else:\n",
    "            return f\"{n} is not a buzz number\"\n",
    "x = int(input())\n",
    "print(buzz(x))"
   ]
  },
  {
   "cell_type": "markdown",
   "id": "9375875e",
   "metadata": {},
   "source": [
    "# SUPER DIGIT"
   ]
  },
  {
   "cell_type": "code",
   "execution_count": 3,
   "id": "c2a590d0",
   "metadata": {},
   "outputs": [
    {
     "name": "stdout",
     "output_type": "stream",
     "text": [
      "enter a number:123\n",
      "6\n",
      "6\n",
      "the super digit of a given number :6 \n"
     ]
    }
   ],
   "source": [
    "'''sum of all individual digits of given number \n",
    "should be equal to an single number.\n",
    "Example:- 1234=1+2+3+4=10 => 1+0=1 then 1234 is a super digit.\n",
    "'''\n",
    "def super(n):\n",
    "    while n>=10:\n",
    "        x=n\n",
    "        s=0\n",
    "        while x!=0:\n",
    "            rem = x % 10\n",
    "            s+=rem\n",
    "            x//=10\n",
    "        n=s\n",
    "        print(s)\n",
    "        print(s)\n",
    "    return f\"the super digit of a given number :{s} \"\n",
    "num = int(input(\"enter a number:\"))\n",
    "print(super(num))"
   ]
  },
  {
   "cell_type": "markdown",
   "id": "920a0052",
   "metadata": {},
   "source": [
    "# MAGIC NUMBER"
   ]
  },
  {
   "cell_type": "code",
   "execution_count": 8,
   "id": "c85ae374",
   "metadata": {},
   "outputs": [
    {
     "name": "stdout",
     "output_type": "stream",
     "text": [
      "enter a number:123\n",
      "The given number is not a magic number\n"
     ]
    }
   ],
   "source": [
    "'''\n",
    "sum of all individual digits of given number \n",
    "should be equal to a magic number.\n",
    "Example:-\n",
    "123=1+2+3+4= 10 => 1+0 = 1\n",
    "'''\n",
    "def magic(n):\n",
    "    while n>=10:\n",
    "        x=n\n",
    "        s=0\n",
    "        while x!=0:\n",
    "            rem = x%10\n",
    "            s+=rem\n",
    "            x//=10\n",
    "        n=s\n",
    "    print(f\"The given number is a magic number\") if s==1 else print(\"The given number is not a magic number\")\n",
    "num = int(input(\"enter a number:\"))\n",
    "magic(num)"
   ]
  },
  {
   "cell_type": "markdown",
   "id": "a9703c25",
   "metadata": {},
   "source": [
    "# NIVEN / HARSHAD NUMBER"
   ]
  },
  {
   "cell_type": "code",
   "execution_count": 12,
   "id": "ad11f573",
   "metadata": {},
   "outputs": [
    {
     "name": "stdout",
     "output_type": "stream",
     "text": [
      "enter a number :18\n",
      "The given number is harshad number\n"
     ]
    }
   ],
   "source": [
    "'''\n",
    "if a give number is divisible sum of it's  individual digits is called as a NIVEN / HARSHAD NUMBER\n",
    "Example:- 18 = 1+8 => 18 % (1+8) ==0 then it is a NIVEN / HARSHAD NUMBER\n",
    "'''\n",
    "def harshad(n):\n",
    "    temp = n \n",
    "    s=0\n",
    "    while temp>0:\n",
    "        rem =temp%10\n",
    "        s+=rem\n",
    "        temp//=10\n",
    "    print(f\"The given number is harshad number\") if n%s==0 else print(f\"The given number not a harshad number\")\n",
    "    \n",
    "x= int(input(\"enter a number :\"))\n",
    "harshad(x)\n",
    "        "
   ]
  },
  {
   "cell_type": "markdown",
   "id": "1a7b6d8b",
   "metadata": {},
   "source": [
    "# DISARIUM NUMBER"
   ]
  },
  {
   "cell_type": "code",
   "execution_count": 7,
   "id": "38bbbbdd",
   "metadata": {},
   "outputs": [
    {
     "name": "stdout",
     "output_type": "stream",
     "text": [
      "enter a number:67\n",
      "The given number 67 is not a dsarium number\n"
     ]
    }
   ],
   "source": [
    "'''\n",
    "Sum of digits raised to the power of it's respective positions is equals to the given number id called as DISARUM NUMBER\n",
    "Example:- 89 = pow(8,1) + pow(8,2) = 8+81 = 89\n",
    "'''\n",
    "def disarium(n):\n",
    "    temp = n\n",
    "    y=n\n",
    "    c=0\n",
    "    while temp>0:\n",
    "        temp//=10\n",
    "        c+=1\n",
    "    s=0\n",
    "    while y>0:\n",
    "        rem= y%10\n",
    "        s=s+rem**c\n",
    "        y//=10\n",
    "        c-=1\n",
    "    print(f\"The given number {n} is a disarium number \") if s==n else print(f\"The given number {n} is not a dsarium number\")\n",
    "x=int(input(\"enter a number:\"))\n",
    "disarium(x)\n",
    "\n",
    "            "
   ]
  },
  {
   "cell_type": "markdown",
   "id": "bb5e49ce",
   "metadata": {},
   "source": [
    "# FASCINATING NUMBER "
   ]
  },
  {
   "cell_type": "code",
   "execution_count": 2,
   "id": "c8cf973c",
   "metadata": {},
   "outputs": [
    {
     "name": "stdout",
     "output_type": "stream",
     "text": [
      "enter number:273\n",
      "the given number is facninating number\n"
     ]
    }
   ],
   "source": [
    "'''\n",
    "*The checkig of fascinating number can be done for the 3 digit number only.\n",
    "*Then multiply the given number with 3 and 2.\n",
    "*Concatnate number with results after multiplying with 2 and 3.\n",
    "*results must be from 1 to 9 exactly once.\n",
    "'''\n",
    "def facinating(n):\n",
    "    fla=0\n",
    "    if len(str(n))!=3:\n",
    "        print(\"the number is not a facninating number\")\n",
    "    else:\n",
    "        x=n\n",
    "        y=n*2\n",
    "        z=n*3\n",
    "        res=str(x)+str(y)+str(z)\n",
    "        for i in res:\n",
    "            if len(res)!=9 or res.count(i)>1 or res.count(i)==0:\n",
    "                fla=1\n",
    "                break\n",
    "    if fla ==1:\n",
    "        print(\"the given number is not facninating number\")\n",
    "    else:\n",
    "        print(\"the given number is facninating number\")\n",
    "x= int(input(\"enter number:\"))\n",
    "facinating(x)"
   ]
  },
  {
   "cell_type": "markdown",
   "id": "91153ea3",
   "metadata": {},
   "source": [
    "# ARMSTRONG NUMBER"
   ]
  },
  {
   "cell_type": "code",
   "execution_count": 3,
   "id": "08472611",
   "metadata": {},
   "outputs": [
    {
     "name": "stdout",
     "output_type": "stream",
     "text": [
      "enter a number:153\n",
      "armstrong number\n"
     ]
    }
   ],
   "source": [
    "'''\n",
    "The sum of powers of number of digits of individual digits is equal to given number \n",
    "Then the given number is called as Armstrong number.\n",
    "All single numbers are armstrong numbers\n",
    "Examaple:\n",
    "        3=> 1(digit)=> 3**1=3(armstrong number)   \n",
    "        153=> 3(digits)=>1**3+5**3+3**3=1+125+27=153(amstrong number)\n",
    "def arm(n):\n",
    "    temp=int(n)\n",
    "    y= int(n)\n",
    "    s=0\n",
    "    while temp!=0:\n",
    "        rem = temp%10\n",
    "        s=s+rem**int(len(n))\n",
    "        print\n",
    "        temp = temp //10\n",
    "    return \"armstrong number\" if s == y else 'not'\n",
    "x=str(int(input(\"enter a number:\")))\n",
    "print(arm(x))\n",
    "==========================================================or====================================================================\n",
    "'''\n",
    "def armstrong(n):\n",
    "    temp =n\n",
    "    x=n\n",
    "    c=0\n",
    "    s=0\n",
    "    while temp!=0:\n",
    "        rem= temp%10\n",
    "        c=c+1\n",
    "        temp=temp//10\n",
    "    while x>0:\n",
    "        r=x%10\n",
    "        s=s+(r**c)\n",
    "        x=x//10\n",
    "    return \"armstrong number\" if s == n else 'not'\n",
    "y = int(input(\"enter a number:\"))\n",
    "print(armstrong(y))\n"
   ]
  },
  {
   "cell_type": "markdown",
   "id": "d346e756",
   "metadata": {},
   "source": [
    "# SUNNY NUMBER"
   ]
  },
  {
   "cell_type": "code",
   "execution_count": 12,
   "id": "76910740",
   "metadata": {},
   "outputs": [
    {
     "name": "stdout",
     "output_type": "stream",
     "text": [
      "Sunny number :  3\n",
      "Sunny number :  8\n"
     ]
    }
   ],
   "source": [
    "'''\n",
    "*A number is said to sunny number\n",
    "*When the immediate number of the given number should be perfect square.\n",
    "Example:\n",
    "        n= 3\n",
    "        The immediate number of 3 is 4\n",
    "        and 4 is a perfect number because 2**2 or 2*2\n",
    "        so, 3 is a perfect number.\n",
    "\n",
    "import math as m\n",
    "def sunny(n):\n",
    "    flag=0\n",
    "    for i in range (1,n+1):\n",
    "        if i+1 == m.sqrt(n+1):\n",
    "            flag = 1\n",
    "            break\n",
    "    if flag == 1:\n",
    "        print(\"Sunny number : \", i)\n",
    "    else:\n",
    "        print(\"NOT\")\n",
    "x= int(input(\"enter a number a number:\"))\n",
    "sunny(x)\n",
    "====================================================or==============================================================\n",
    "Without math module\n",
    "def sunny(n):\n",
    "    for i in range(1,n+1):\n",
    "        if i*i== n+1:\n",
    "            flag=1\n",
    "            break\n",
    "    return \"sunny number\" if flag ==1 else \"not \" \n",
    "x=int(input(\"enter a number:\"))\n",
    "print(sunny(x))\n",
    "====================================================or==============================================================\n",
    "def sunny():\n",
    "    for i in range(1,10):\n",
    "        #n= int(input(\"enter a number a number:\"))\n",
    "        flag=0\n",
    "        for j in range (1,i+1):\n",
    "            if j*j == i+1:\n",
    "                flag = 1\n",
    "                break\n",
    "        if flag == 1:\n",
    "            print(\"Sunny number : \", i)\n",
    "            #else:\n",
    "            #    print(\"NOT\")\n",
    "sunny()\n",
    "====================================================or===============================================================\n",
    "'''\n",
    "#sunny numbers within the range (using math module).\n",
    "import math as m\n",
    "def sunny():\n",
    "    for i in range(1,10):\n",
    "        #n= int(input(\"enter a number a number:\"))\n",
    "        flag=0\n",
    "        for j in range (1,i+1):\n",
    "            if j+1 == m.sqrt(i+1):\n",
    "                flag = 1\n",
    "                break\n",
    "        if flag == 1:\n",
    "            print(\"Sunny number : \", i)\n",
    "            #else:\n",
    "            #    print(\"NOT\")\n",
    "sunny()"
   ]
  },
  {
   "cell_type": "markdown",
   "id": "4020d787",
   "metadata": {},
   "source": [
    "# PERFECT NUMBER"
   ]
  },
  {
   "cell_type": "code",
   "execution_count": 1,
   "id": "6666f395",
   "metadata": {
    "scrolled": true
   },
   "outputs": [
    {
     "name": "stdout",
     "output_type": "stream",
     "text": [
      "6 perfect number.\n"
     ]
    }
   ],
   "source": [
    "'''\n",
    "A number is said to be a perfect number \n",
    "If the sum of it is factors should be equal to the given number\n",
    "Then it is said to be a perfect number.\n",
    "Example:\n",
    "        consider a number \n",
    "        let n = 6\n",
    "        factors of 6 -> 1,2,3\n",
    "        sum(factors) = 6\n",
    "        n == sum(factors)\n",
    "'''\n",
    "for i in range(1,11):\n",
    "    s=0\n",
    "    for j in range(1,i):\n",
    "        if i%j==0:\n",
    "            s=s+j\n",
    "    if s==i:\n",
    "        print(i,\"perfect number.\")"
   ]
  },
  {
   "cell_type": "markdown",
   "id": "98b5181e",
   "metadata": {},
   "source": [
    "# HAPPY NUMBER"
   ]
  },
  {
   "cell_type": "code",
   "execution_count": 3,
   "id": "adea1725",
   "metadata": {},
   "outputs": [
    {
     "name": "stdout",
     "output_type": "stream",
     "text": [
      "enter a number:10\n",
      "(10, 'is a happy number')\n"
     ]
    }
   ],
   "source": [
    "'''\n",
    "* A number said to be a happy number.\n",
    "* If sum of square of individiual digits until it is equal to one then it is called as happy number.\n",
    "Example:\n",
    "        n= 13\n",
    "        1**2+3**2= 1+9 = 10\n",
    "        again 1**2 + 0**2 = 1\n",
    "        therefore, the number 13 is an happy number.\n",
    "'''\n",
    "def happy(n):\n",
    "    temp = n\n",
    "    while temp >= 10:\n",
    "        s = 0 \n",
    "        while temp != 0:\n",
    "            rem = temp % 10\n",
    "            s = s + (rem**2)\n",
    "            temp = temp // 10\n",
    "        temp = s\n",
    "    if temp == 1:\n",
    "        return n,\"is a happy number\"\n",
    "    else:\n",
    "        return n,\"is not a happy number\"\n",
    "n= int(input(\"enter a number:\"))\n",
    "print(happy(n))"
   ]
  },
  {
   "cell_type": "markdown",
   "id": "743ef005",
   "metadata": {},
   "source": [
    "# UNIQUE NUMBER"
   ]
  },
  {
   "cell_type": "code",
   "execution_count": null,
   "id": "f923fcc3",
   "metadata": {},
   "outputs": [],
   "source": [
    "'''*If any number having unique digits or duplicates then\n",
    "* It is called as unique number.\n",
    "Example:\n",
    "        n = 123\n",
    "        In the given number there is know any duplicates.\n",
    "        So, it is called as unique\n",
    "'''\n",
    "def unique(n):\n",
    "    l=[]\n",
    "    y=n\n",
    "    while x > 0:\n",
    "        rem = y % 10\n",
    "        l.append(rem)\n",
    "        y = y // 10\n",
    "    for i in l:\n",
    "        if l.count(i)>1:\n",
    "            print (f\"{n} is not a unique number\")\n",
    "    else:\n",
    "        print(f\"{n} is an unique number\")\n",
    "x= int(input(\"enter a number:\"))\n",
    "unique(x)"
   ]
  },
  {
   "cell_type": "markdown",
   "id": "cd923f63",
   "metadata": {},
   "source": [
    "# SPEICIAL NUMBER"
   ]
  },
  {
   "cell_type": "code",
   "execution_count": 3,
   "id": "3e3af0d9",
   "metadata": {},
   "outputs": [
    {
     "name": "stdout",
     "output_type": "stream",
     "text": [
      "enter a number:156\n",
      "not\n"
     ]
    }
   ],
   "source": [
    "'''\n",
    "* Sum of factorial of individiual digits of a number is equal to given number is called speicial number\n",
    "Example:\n",
    "        n = 145\n",
    "        1!+4!+5! = 145\n",
    "'''\n",
    "import math as m\n",
    "def speicial(n):\n",
    "    s = 0\n",
    "    temp = n\n",
    "    while temp != 0:\n",
    "        \n",
    "        rem = temp % 10\n",
    "        s = s + m.factorial(rem)\n",
    "        temp = temp // 10\n",
    "    return \"the given number is a speicial number\" if s == n else \"not\"\n",
    "x= int(input(\"enter a number:\"))\n",
    "print(speicial(x))"
   ]
  },
  {
   "cell_type": "markdown",
   "id": "af024c0f",
   "metadata": {},
   "source": [
    "# AUTOMORPHIC NUMBER "
   ]
  },
  {
   "cell_type": "code",
   "execution_count": 10,
   "id": "e14ad861",
   "metadata": {},
   "outputs": [
    {
     "name": "stdout",
     "output_type": "stream",
     "text": [
      "Enter a number:5\n",
      "The given number is AUTOMORPHIC NUMBER\n"
     ]
    }
   ],
   "source": [
    "'''\n",
    "* If the square of a given nunber ends with given number then the given number is a AUTOMORPHIC NUMBER\n",
    "Example : \n",
    "        n = 25\n",
    "        n*n= 625\n",
    "        ends with 25 so, 25 is AUTOMORPHIC NUMBER\n",
    "'''\n",
    "def automorphic(n):\n",
    "    t = 10\n",
    "    sq = n**2\n",
    "    flag = 0 \n",
    "    temp = n\n",
    "    while temp != 0:\n",
    "        rem = sq % t\n",
    "        if rem == n:\n",
    "            flag = 1\n",
    "            break\n",
    "        temp = temp // 10\n",
    "        t = t * 10\n",
    "    return \"The given number is AUTOMORPHIC NUMBER\" if flag == 1 else \"The given number is not an AUTOMORPHIC NUMBER\"\n",
    "x = int(input(\"Enter a number:\")) \n",
    "print(automorphic(x))"
   ]
  },
  {
   "cell_type": "markdown",
   "id": "841ae701",
   "metadata": {},
   "source": [
    "# TRIMORPHIC NUMBER"
   ]
  },
  {
   "cell_type": "code",
   "execution_count": 12,
   "id": "43a28e30",
   "metadata": {},
   "outputs": [
    {
     "name": "stdout",
     "output_type": "stream",
     "text": [
      "Enter a number:45\n",
      "The given number is not an TRIMORPHIC NUMBER\n"
     ]
    }
   ],
   "source": [
    "''' \n",
    "* If the cube of a given nunber ends with given number then the given number is a TRIMORPHIC NUMBER\n",
    "Example : \n",
    "        n = 5\n",
    "        n**3= 125\n",
    "        ends with 5 so, 5 is TRIMORPHIC NUMBER\n",
    "'''\n",
    "def automorphic(n):\n",
    "    t = 10\n",
    "    sq = n**3\n",
    "    flag = 0 \n",
    "    temp = n\n",
    "    while temp != 0:\n",
    "        rem = sq % t\n",
    "        if rem == n:\n",
    "            flag = 1\n",
    "            break\n",
    "        temp = temp // 10\n",
    "        t = t * 10\n",
    "    return \"The given number is TRIMORPHIC NUMBER\" if flag == 1 else \"The given number is not an TRIMORPHIC NUMBER\"\n",
    "x = int(input(\"Enter a number:\")) \n",
    "print(automorphic(x))"
   ]
  },
  {
   "cell_type": "markdown",
   "id": "8182087e",
   "metadata": {},
   "source": [
    "# PRIME NUMBER "
   ]
  },
  {
   "cell_type": "code",
   "execution_count": null,
   "id": "076a14ea",
   "metadata": {},
   "outputs": [],
   "source": [
    "''''''"
   ]
  }
 ],
 "metadata": {
  "kernelspec": {
   "display_name": "Python 3 (ipykernel)",
   "language": "python",
   "name": "python3"
  },
  "language_info": {
   "codemirror_mode": {
    "name": "ipython",
    "version": 3
   },
   "file_extension": ".py",
   "mimetype": "text/x-python",
   "name": "python",
   "nbconvert_exporter": "python",
   "pygments_lexer": "ipython3",
   "version": "3.11.5"
  }
 },
 "nbformat": 4,
 "nbformat_minor": 5
}

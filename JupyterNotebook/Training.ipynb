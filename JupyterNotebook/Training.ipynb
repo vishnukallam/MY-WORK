{
 "cells": [
  {
   "cell_type": "markdown",
   "id": "0d0b9ffc",
   "metadata": {},
   "source": [
    "# Pattern-1"
   ]
  },
  {
   "cell_type": "code",
   "execution_count": 1,
   "id": "ecd1e47f",
   "metadata": {},
   "outputs": [
    {
     "data": {
      "text/plain": [
       "'\\nwhen we print(i)\\n1 \\n2 2 \\n3 3 3 \\n4 4 4 4 \\n5 5 5 5 5 \\n6 6 6 6 6 6\\n\\nwhen we print(j)\\n\\n1 \\n1 2 \\n1 2 3 \\n1 2 3 4 \\n1 2 3 4 5 \\n1 2 3 4 5 6 \\n\\n'"
      ]
     },
     "execution_count": 1,
     "metadata": {},
     "output_type": "execute_result"
    }
   ],
   "source": [
    "'''\n",
    "when we print(i)\n",
    "1 \n",
    "2 2 \n",
    "3 3 3 \n",
    "4 4 4 4 \n",
    "5 5 5 5 5 \n",
    "6 6 6 6 6 6\n",
    "\n",
    "when we print(j)\n",
    "\n",
    "1 \n",
    "1 2 \n",
    "1 2 3 \n",
    "1 2 3 4 \n",
    "1 2 3 4 5 \n",
    "1 2 3 4 5 6 \n",
    "\n",
    "'''"
   ]
  },
  {
   "cell_type": "code",
   "execution_count": null,
   "id": "9a0cbb7e",
   "metadata": {
    "scrolled": true
   },
   "outputs": [],
   "source": [
    "n = int(input(\"enter a number:\"))\n",
    "for i in range(1,n+1):\n",
    "    for j in range(1,i+1):\n",
    "        print(i,end=' ')\n",
    "#         print(j,end=' ')\n",
    "    print()"
   ]
  },
  {
   "cell_type": "markdown",
   "id": "130bf628",
   "metadata": {},
   "source": [
    "# Pattern-2"
   ]
  },
  {
   "cell_type": "code",
   "execution_count": null,
   "id": "6dd71281",
   "metadata": {},
   "outputs": [],
   "source": [
    "n= int(input())\n",
    "s=0\n",
    "for i in range(0,n+1):\n",
    "    for j in range(i):\n",
    "        s+=i\n",
    "        print(s,end=' ')\n",
    "    print()"
   ]
  },
  {
   "cell_type": "markdown",
   "id": "337d4f94",
   "metadata": {},
   "source": [
    "# List"
   ]
  },
  {
   "cell_type": "code",
   "execution_count": null,
   "id": "84d7041e",
   "metadata": {},
   "outputs": [],
   "source": [
    "'''\n",
    "list : Collection of different datatypes into a single varible and enclosed in square brackets and the data is separated by\\\n",
    "comma is called list\n",
    "\n",
    "list is declared by using '[]'\n",
    "list is hetrogenous datatype\n",
    "List is mutable\n",
    "list is ordered\n",
    "list is indexed\n",
    "list allows duplicate values\n",
    "'''"
   ]
  },
  {
   "cell_type": "code",
   "execution_count": null,
   "id": "d5c73746",
   "metadata": {},
   "outputs": [],
   "source": [
    "l = [1,2,3,4,5,6,7,8,9]\n",
    "print(l[1:-6:-1]) # start:stop:stepsize"
   ]
  },
  {
   "cell_type": "markdown",
   "id": "3bc617d0",
   "metadata": {},
   "source": [
    "# Rotate the elements of the list by k times"
   ]
  },
  {
   "cell_type": "code",
   "execution_count": null,
   "id": "48a1998a",
   "metadata": {},
   "outputs": [],
   "source": [
    "def swap(k,l):   \n",
    "    lst = l[len(l)-k:] + l[:len(l)-k]\n",
    "    return lst\n",
    "    lst1 = l[k:] + l[:k]\n",
    "    return lst1\n",
    "lst = [2,3,4,5,10]\n",
    "n = int(input())\n",
    "print(swap(n,lst))"
   ]
  },
  {
   "cell_type": "markdown",
   "id": "cf46d704",
   "metadata": {},
   "source": [
    "# left Rotate"
   ]
  },
  {
   "cell_type": "code",
   "execution_count": null,
   "id": "0aa1a137",
   "metadata": {},
   "outputs": [],
   "source": [
    "l = [2,3,4,5,10]\n",
    "k = int(input())\n",
    "lst1 = l[k:] + l[:k]\n",
    "print(lst1)"
   ]
  },
  {
   "cell_type": "code",
   "execution_count": null,
   "id": "5709b561",
   "metadata": {},
   "outputs": [],
   "source": [
    "# 1.remove duplicate from the lst\n",
    "lst = [1,2,3,3,2,3,1,5,5,4,4]\n",
    "l = []\n",
    "for i in lst:\n",
    "    if i not in l:\n",
    "        l.append(i)\n",
    "print(l)\n",
    "\n",
    "\n",
    "lst1 = [1,1,1,1,5,5,5,5,6,6,6,6,7,7,7]\n",
    "print(list(set(lst1)))"
   ]
  },
  {
   "cell_type": "code",
   "execution_count": null,
   "id": "ef1135f7",
   "metadata": {},
   "outputs": [],
   "source": [
    "# 2. sum of even elements in the list\n",
    "lst = [1,2,3,4,5,6,7,8,9,10]\n",
    "print(sum(lst)) # total sum\n",
    "\n",
    "lls = []\n",
    "for i in lst:\n",
    "    if i % 2 == 0:\n",
    "        lls.append(i)\n",
    "print(sum(lls)) # even number sum"
   ]
  },
  {
   "cell_type": "code",
   "execution_count": null,
   "id": "7fdc311c",
   "metadata": {},
   "outputs": [],
   "source": [
    "# 3. sum of odd elements in the list\n",
    "lst = [1,2,3,4,5,6,7,8,9,10]\n",
    "ls = []\n",
    "for i in lst:\n",
    "    if i % 2 !=0:\n",
    "        ls.append(i)\n",
    "print(sum(ls)) # odd number sum"
   ]
  },
  {
   "cell_type": "code",
   "execution_count": null,
   "id": "5970a1e7",
   "metadata": {},
   "outputs": [],
   "source": [
    "# 4. seperate the even and odd numbers from the list\n",
    "lst = [1,2,3,4,5,6,7,8,9,10]\n",
    "even = []\n",
    "odd = []\n",
    "for i in lst:\n",
    "    if i % 2 == 0:\n",
    "        even.append(i)\n",
    "    else:\n",
    "        odd.append(i)\n",
    "print(even)\n",
    "print(odd)"
   ]
  },
  {
   "cell_type": "code",
   "execution_count": null,
   "id": "684e6f08",
   "metadata": {},
   "outputs": [],
   "source": [
    "# 5.count the number of elements in the list\n",
    "lst = [1,2,3,4,5,6,7,8,9,10]\n",
    "print(len(lst)) # built-in method\n",
    "\n",
    "c = 0\n",
    "for i in lst:\n",
    "    c+=1\n",
    "print(c) # without using built-in method"
   ]
  },
  {
   "cell_type": "code",
   "execution_count": null,
   "id": "b466bbb9",
   "metadata": {},
   "outputs": [],
   "source": [
    "#6. Total sum in the lst\n",
    "lst = [1,2,3,4,5,6,7,8,9,10]\n",
    "print(sum(lst)) # built-in method\n",
    "\n",
    "s = 0\n",
    "for i in lst:\n",
    "    s+=i\n",
    "print(s) # without using buit-in method"
   ]
  },
  {
   "cell_type": "code",
   "execution_count": null,
   "id": "72c5d492",
   "metadata": {},
   "outputs": [],
   "source": [
    "# 7,8 max and min in list\n",
    "lst = [1,2,3,4,5,6,7,8,9,10]\n",
    "print(max(lst))\n",
    "print(min(lst))\n",
    "ma = lst[0]\n",
    "for i in l"
   ]
  },
  {
   "cell_type": "code",
   "execution_count": null,
   "id": "55abccfb",
   "metadata": {},
   "outputs": [],
   "source": [
    "# 9.left rotation of the lst\n",
    "\n",
    "l = [2,3,4,5,10]\n",
    "k = int(input())\n",
    "lst1 = l[k:] + l[:k]\n",
    "print(lst1)"
   ]
  },
  {
   "cell_type": "code",
   "execution_count": null,
   "id": "fec81b9b",
   "metadata": {},
   "outputs": [],
   "source": [
    "# 10. right rotation of the lst\n",
    "l = [2,3,4,5,10]\n",
    "d = 2\n",
    "lst = l[len(l)-d:]+l[:len(l)-d]\n",
    "print(lst)"
   ]
  },
  {
   "cell_type": "code",
   "execution_count": null,
   "id": "4e337ccd",
   "metadata": {},
   "outputs": [],
   "source": [
    "import numpy as np\n",
    "a = list(map(int,input().split()))\n",
    "mat = np.array(a).reshape(3,3)\n",
    "print(mat)\n",
    "print(np.trace(mat))"
   ]
  },
  {
   "cell_type": "code",
   "execution_count": null,
   "id": "d5f1b2d7",
   "metadata": {},
   "outputs": [],
   "source": [
    "s=0\n",
    "for i in range(0,3):\n",
    "    for j in range(0,3):\n",
    "        s=s+1\n",
    "        print(s,end=' ')\n",
    "    print()"
   ]
  },
  {
   "cell_type": "code",
   "execution_count": null,
   "id": "d203cdf9",
   "metadata": {},
   "outputs": [],
   "source": [
    "# find the sum of first and last element and continue upto middle\n",
    "l=list(map(int,input().split(' ')))\n",
    "i =1\n",
    "j =-1\n",
    "s = []\n",
    "for i in range(len(l)):\n",
    "    a= l[i]+l[j]\n",
    "    i+=1\n",
    "    j-=1\n",
    "    s.append(a)\n",
    "print(s)"
   ]
  },
  {
   "cell_type": "code",
   "execution_count": null,
   "id": "ae5ce703",
   "metadata": {},
   "outputs": [],
   "source": [
    "l=[1,2,3,4,5,6,7]\n",
    "i=0;j=-1\n",
    "if len(l)%2==0:\n",
    "    c=len(l)//2\n",
    "else:\n",
    "    c=len(l)//2+1\n",
    "for k in range(c):\n",
    "    b=l[i]+l[j]\n",
    "    i+=1\n",
    "    j-=1\n",
    "    print(b)"
   ]
  },
  {
   "cell_type": "code",
   "execution_count": null,
   "id": "649c65ff",
   "metadata": {},
   "outputs": [],
   "source": [
    "l= [1,2,3,4,5,6,7]\n",
    "l2= l[len(l)//2]\n",
    "print(2*l2)"
   ]
  },
  {
   "cell_type": "code",
   "execution_count": null,
   "id": "2db124ed",
   "metadata": {
    "scrolled": true
   },
   "outputs": [],
   "source": [
    "''' \n",
    "REVERSE VOWLES IN A STRING \n",
    "EXAMPLE: 'HELLO' HERE E, O ARE THE VOWELS BY SWAPPIN THIS WE GET\n",
    "         'HOLLE'\n",
    "'''\n",
    "s = input(\"enter a string: \")\n",
    "v = \"aeiouAEIOU\"\n",
    "if v in s:\n",
    "    for i in s:\n",
    "        temp,a[i] = temp,a[i]\n",
    "        print(i)\n",
    "    "
   ]
  },
  {
   "cell_type": "markdown",
   "id": "e0775147",
   "metadata": {},
   "source": [
    "# List comprehension \n",
    "\n",
    "### syntax for list comprehension\n",
    "### "
   ]
  },
  {
   "cell_type": "code",
   "execution_count": null,
   "id": "5394705a",
   "metadata": {},
   "outputs": [],
   "source": []
  },
  {
   "cell_type": "code",
   "execution_count": null,
   "id": "7c8855c7",
   "metadata": {},
   "outputs": [],
   "source": []
  }
 ],
 "metadata": {
  "kernelspec": {
   "display_name": "Python 3 (ipykernel)",
   "language": "python",
   "name": "python3"
  },
  "language_info": {
   "codemirror_mode": {
    "name": "ipython",
    "version": 3
   },
   "file_extension": ".py",
   "mimetype": "text/x-python",
   "name": "python",
   "nbconvert_exporter": "python",
   "pygments_lexer": "ipython3",
   "version": "3.11.5"
  }
 },
 "nbformat": 4,
 "nbformat_minor": 5
}

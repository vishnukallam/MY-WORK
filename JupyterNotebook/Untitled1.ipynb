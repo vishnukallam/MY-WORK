{
 "cells": [
  {
   "cell_type": "markdown",
   "id": "9d425b3a",
   "metadata": {},
   "source": [
    "# List comprehension \n",
    "\n",
    "### syntax for list comprehension\n",
    "### list_variable = [variable for loop if condition]"
   ]
  },
  {
   "cell_type": "code",
   "execution_count": 11,
   "id": "539a4e7f",
   "metadata": {},
   "outputs": [
    {
     "data": {
      "text/plain": [
       "[2, 4, 6, 8]"
      ]
     },
     "execution_count": 11,
     "metadata": {},
     "output_type": "execute_result"
    }
   ],
   "source": [
    "lst = [i for i in range(1, 10) if i%2==0]\n",
    "lst"
   ]
  },
  {
   "cell_type": "markdown",
   "id": "9413b974",
   "metadata": {},
   "source": [
    "## Nested for loops using comprehension."
   ]
  },
  {
   "cell_type": "code",
   "execution_count": 14,
   "id": "c52676f9",
   "metadata": {},
   "outputs": [
    {
     "data": {
      "text/plain": [
       "[(0, 0),\n",
       " (1, 0),\n",
       " (1, 1),\n",
       " (2, 0),\n",
       " (2, 1),\n",
       " (2, 2),\n",
       " (3, 0),\n",
       " (3, 1),\n",
       " (3, 2),\n",
       " (3, 3),\n",
       " (4, 0),\n",
       " (4, 1),\n",
       " (4, 2),\n",
       " (4, 3),\n",
       " (4, 4)]"
      ]
     },
     "execution_count": 14,
     "metadata": {},
     "output_type": "execute_result"
    }
   ],
   "source": [
    "mylst=[(i,j) for i in range(4+1) for j in range(i+1)]\n",
    "mylst"
   ]
  },
  {
   "cell_type": "markdown",
   "id": "7cfbb423",
   "metadata": {},
   "source": [
    "## Dictionary comprehension"
   ]
  },
  {
   "cell_type": "code",
   "execution_count": 20,
   "id": "2fdc3e45",
   "metadata": {},
   "outputs": [
    {
     "data": {
      "text/plain": [
       "{2: 20, 4: 40, 6: 60}"
      ]
     },
     "execution_count": 20,
     "metadata": {},
     "output_type": "execute_result"
    }
   ],
   "source": [
    "k = [1,2,3,4,5,6]\n",
    "v = [10,20,30,40,50,60]\n",
    "dic = {k:v for k,v in zip(k,v) if k%2 ==0}\n",
    "dic"
   ]
  },
  {
   "cell_type": "markdown",
   "id": "5221ed06",
   "metadata": {},
   "source": [
    "## Set comprehension\n",
    "### Syntax is setvariable = {itarative_variable for loop if condition}"
   ]
  },
  {
   "cell_type": "code",
   "execution_count": 23,
   "id": "537ac07b",
   "metadata": {},
   "outputs": [
    {
     "data": {
      "text/plain": [
       "{5, 10}"
      ]
     },
     "execution_count": 23,
     "metadata": {},
     "output_type": "execute_result"
    }
   ],
   "source": [
    "'''\n",
    "set comprehension is as like list comprehension\n",
    "'''\n",
    "myset ={i for i in range(1,10+1,1) if i % 5 ==0}\n",
    "myset"
   ]
  },
  {
   "cell_type": "markdown",
   "id": "285918de",
   "metadata": {},
   "source": [
    "## Generator comprehension"
   ]
  },
  {
   "cell_type": "code",
   "execution_count": 26,
   "id": "c81a6dab",
   "metadata": {},
   "outputs": [
    {
     "name": "stdout",
     "output_type": "stream",
     "text": [
      "<generator object <genexpr> at 0x000001F54C987030>\n"
     ]
    }
   ],
   "source": [
    "'''\n",
    "Generator comprehension is used to return tuple of values it is as like list and set\n",
    "'''\n",
    "mygen= (i for i in range(10,100,1) if i%5==0)\n",
    "print(mygen)"
   ]
  },
  {
   "cell_type": "code",
   "execution_count": null,
   "id": "32afeca4",
   "metadata": {},
   "outputs": [],
   "source": []
  }
 ],
 "metadata": {
  "kernelspec": {
   "display_name": "Python 3 (ipykernel)",
   "language": "python",
   "name": "python3"
  },
  "language_info": {
   "codemirror_mode": {
    "name": "ipython",
    "version": 3
   },
   "file_extension": ".py",
   "mimetype": "text/x-python",
   "name": "python",
   "nbconvert_exporter": "python",
   "pygments_lexer": "ipython3",
   "version": "3.11.5"
  }
 },
 "nbformat": 4,
 "nbformat_minor": 5
}
